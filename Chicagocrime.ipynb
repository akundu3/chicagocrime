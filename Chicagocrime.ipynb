{
 "cells": [
  {
   "cell_type": "code",
   "execution_count": 1,
   "metadata": {},
   "outputs": [],
   "source": [
    "# importing libraries\n",
    "import os\n",
    "import numpy as np\n",
    "import pandas as pd\n",
    "from sodapy import Socrata\n",
    "import matplotlib.pyplot as plt"
   ]
  },
  {
   "cell_type": "code",
   "execution_count": 2,
   "metadata": {},
   "outputs": [],
   "source": [
    "import datetime"
   ]
  },
  {
   "cell_type": "code",
   "execution_count": 3,
   "metadata": {},
   "outputs": [],
   "source": [
    "from sklearn.model_selection import train_test_split"
   ]
  },
  {
   "cell_type": "code",
   "execution_count": 4,
   "metadata": {},
   "outputs": [],
   "source": [
    "# creating API connection environment variables\n",
    "socrata_domain = 'data.cityofchicago.org'\n",
    "socrata_dataset_identifier = '6zsd-86xi'\n",
    "# If you choose to use a token, run the following command on the terminal (or add it to your .bashrc)\n",
    "# to get an API visit \n",
    "# $ export SODAPY_APPTOKEN=<token>\n",
    "socrata_token = os.environ.get(\"SODAPY_APPTOKEN\")"
   ]
  },
  {
   "cell_type": "code",
   "execution_count": 5,
   "metadata": {},
   "outputs": [
    {
     "name": "stdout",
     "output_type": "stream",
     "text": [
      "Domain: data.cityofchicago.org\n",
      "Session: <requests.sessions.Session object at 0x121d36940>\n",
      "URI Prefix: https://\n"
     ]
    }
   ],
   "source": [
    "# Connecting to the database API\n",
    "client = Socrata(socrata_domain, socrata_token)\n",
    "print(\"Domain: {domain:}\\nSession: {session:}\\nURI Prefix: {uri_prefix:}\".format(**client.__dict__))"
   ]
  },
  {
   "cell_type": "code",
   "execution_count": 6,
   "metadata": {},
   "outputs": [],
   "source": [
    "#def fetch_data_bydate(x):\n",
    " #   for i in range(x):\n",
    "  #      results = client.get(socrata_dataset_identifier, limit=50000, offset=i*50000, order='date DESC')\n",
    "   #     df1 = pd.DataFrame.from_dict(results)\n",
    "        "
   ]
  },
  {
   "cell_type": "code",
   "execution_count": 7,
   "metadata": {},
   "outputs": [
    {
     "data": {
      "text/plain": [
       "arrest                  0\n",
       "beat                    0\n",
       "block                   0\n",
       "case_number             0\n",
       "community_area          0\n",
       "date                    0\n",
       "description             0\n",
       "district                0\n",
       "domestic                0\n",
       "fbi_code                0\n",
       "id                      0\n",
       "iucr                    0\n",
       "latitude                0\n",
       "location                0\n",
       "location_description    0\n",
       "longitude               0\n",
       "primary_type            0\n",
       "updated_on              0\n",
       "ward                    0\n",
       "x_coordinate            0\n",
       "y_coordinate            0\n",
       "year                    0\n",
       "dtype: int64"
      ]
     },
     "execution_count": 7,
     "metadata": {},
     "output_type": "execute_result"
    }
   ],
   "source": [
    "# Fetching data pages 50,000 records at a time ordered by date\n",
    "results1 = client.get(socrata_dataset_identifier, limit=50000, offset = 0, order='date DESC')\n",
    "df1 = pd.DataFrame.from_dict(results1)\n",
    "# page 2\n",
    "results2 = client.get(socrata_dataset_identifier, limit = 50000, offset = 50000, order='date DESC')\n",
    "df2 = pd.DataFrame.from_dict(results2)\n",
    "# page 3\n",
    "results3 = client.get(socrata_dataset_identifier, limit = 50000, offset = 100000, order='date DESC')\n",
    "df3 = pd.DataFrame.from_dict(results3)\n",
    "# page 4\n",
    "results4 = client.get(socrata_dataset_identifier, limit = 50000, offset = 150000, order='date DESC')\n",
    "df4 = pd.DataFrame.from_dict(results4)\n",
    "# page 5\n",
    "results5 = client.get(socrata_dataset_identifier, limit = 50000, offset = 200000, order='date DESC')\n",
    "df5 = pd.DataFrame.from_dict(results5)\n",
    "# page 6\n",
    "results6 = client.get(socrata_dataset_identifier, limit = 50000, offset = 250000, order='date DESC')\n",
    "df6 = pd.DataFrame.from_dict(results6)\n",
    "# Combining pages \n",
    "df = df1.append(df2, ignore_index=True)\n",
    "df = df.append(df3, ignore_index=True)\n",
    "df = df.append(df4, ignore_index=True)\n",
    "df = df.append(df5, ignore_index=True)\n",
    "df = df.append(df6, ignore_index=True)\n",
    "# removing missing values\n",
    "df = df.dropna()\n",
    "# Total missing values per column after cleaning\n",
    "df.isna().sum()"
   ]
  },
  {
   "cell_type": "code",
   "execution_count": 8,
   "metadata": {},
   "outputs": [
    {
     "data": {
      "text/plain": [
       "(297097, 22)"
      ]
     },
     "execution_count": 8,
     "metadata": {},
     "output_type": "execute_result"
    }
   ],
   "source": [
    "df.shape"
   ]
  },
  {
   "cell_type": "code",
   "execution_count": 9,
   "metadata": {},
   "outputs": [
    {
     "data": {
      "text/plain": [
       "arrest                    bool\n",
       "beat                    object\n",
       "block                   object\n",
       "case_number             object\n",
       "community_area          object\n",
       "date                    object\n",
       "description             object\n",
       "district                object\n",
       "domestic                  bool\n",
       "fbi_code                object\n",
       "id                      object\n",
       "iucr                    object\n",
       "latitude                object\n",
       "location                object\n",
       "location_description    object\n",
       "longitude               object\n",
       "primary_type            object\n",
       "updated_on              object\n",
       "ward                    object\n",
       "x_coordinate            object\n",
       "y_coordinate            object\n",
       "year                    object\n",
       "dtype: object"
      ]
     },
     "execution_count": 9,
     "metadata": {},
     "output_type": "execute_result"
    }
   ],
   "source": [
    "df.dtypes"
   ]
  },
  {
   "cell_type": "code",
   "execution_count": 10,
   "metadata": {},
   "outputs": [
    {
     "data": {
      "text/plain": [
       "arrest                                                            True\n",
       "beat                                                              2535\n",
       "block                                               137XX S LEYDEN AVE\n",
       "case_number                                                   XX424158\n",
       "community_area                                                       9\n",
       "date                                           2018-12-27T23:55:00.000\n",
       "description             VIOLENT OFFENDER: FAIL TO REGISTER NEW ADDRESS\n",
       "district                                                           031\n",
       "domestic                                                          True\n",
       "fbi_code                                                            26\n",
       "id                                                               24364\n",
       "iucr                                                              5132\n",
       "latitude                                                  42.022671246\n",
       "location_description                                              YMCA\n",
       "longitude                                                -87.934272688\n",
       "primary_type                                         WEAPONS VIOLATION\n",
       "updated_on                                     2019-01-03T16:09:08.000\n",
       "ward                                                                 9\n",
       "x_coordinate                                                   1205119\n",
       "y_coordinate                                                   1951535\n",
       "year                                                              2018\n",
       "dtype: object"
      ]
     },
     "execution_count": 10,
     "metadata": {},
     "output_type": "execute_result"
    }
   ],
   "source": [
    "df.max()"
   ]
  },
  {
   "cell_type": "code",
   "execution_count": 11,
   "metadata": {},
   "outputs": [
    {
     "data": {
      "text/plain": [
       "arrest                                    False\n",
       "beat                                       0111\n",
       "block                          0000X E 100TH PL\n",
       "case_number                           .JB299184\n",
       "community_area                                1\n",
       "date                    2017-11-06T11:00:00.000\n",
       "description                      $500 AND UNDER\n",
       "district                                    001\n",
       "domestic                                  False\n",
       "fbi_code                                    01A\n",
       "id                                     11141239\n",
       "iucr                                       0110\n",
       "latitude                           41.644600433\n",
       "location_description         ABANDONED BUILDING\n",
       "longitude                         -87.524529378\n",
       "primary_type                              ARSON\n",
       "updated_on              2017-11-13T16:01:55.000\n",
       "ward                                          1\n",
       "x_coordinate                            1092706\n",
       "y_coordinate                            1813910\n",
       "year                                       2017\n",
       "dtype: object"
      ]
     },
     "execution_count": 11,
     "metadata": {},
     "output_type": "execute_result"
    }
   ],
   "source": [
    "df.min()"
   ]
  },
  {
   "cell_type": "code",
   "execution_count": 12,
   "metadata": {},
   "outputs": [],
   "source": [
    "# Reading Illinois Uniform crime reporting codes\n",
    "iucrc = pd.read_csv('Chicago_Police_Department_-_Illinois_Uniform_Crime_Reporting__IUCR__Codes.csv')"
   ]
  },
  {
   "cell_type": "code",
   "execution_count": 13,
   "metadata": {},
   "outputs": [],
   "source": [
    "%matplotlib inline"
   ]
  },
  {
   "cell_type": "code",
   "execution_count": 14,
   "metadata": {},
   "outputs": [],
   "source": [
    "df['date'] =  pd.to_datetime(df['date'])\n",
    "# adding new columns for date before one-hot Encoding\n",
    "df['month'] = df['date'].dt.month\n",
    "df['minute'] = df['date'].dt.minute\n",
    "df['hour'] = df['date'].dt.hour\n",
    "df['weekday'] = pd.to_datetime(df['date'].dt.date).dt.weekday_name\n",
    "df['arrest'] = df['arrest']*1"
   ]
  },
  {
   "cell_type": "code",
   "execution_count": 15,
   "metadata": {},
   "outputs": [],
   "source": [
    "# one-hot Encoding for categorical data\n",
    "dummies = pd.get_dummies(data=df, columns=['beat', 'community_area', 'district', 'ward', 'hour', 'minute',\n",
    "                                           'weekday', 'month'])\n",
    "dummies = dummies.drop(columns=['block', 'case_number', 'date', 'description', 'domestic', 'fbi_code',\n",
    "                                'id', 'iucr', 'location', 'location_description', 'primary_type',\n",
    "                                'updated_on', 'year'])\n",
    "dummies = dummies.apply(pd.to_numeric)"
   ]
  },
  {
   "cell_type": "code",
   "execution_count": 15,
   "metadata": {},
   "outputs": [],
   "source": [
    "y = df['iucr']"
   ]
  },
  {
   "cell_type": "code",
   "execution_count": 15,
   "metadata": {},
   "outputs": [
    {
     "data": {
      "text/plain": [
       "arrest                 int64\n",
       "latitude             float64\n",
       "longitude            float64\n",
       "x_coordinate           int64\n",
       "y_coordinate           int64\n",
       "beat_0111              uint8\n",
       "beat_0112              uint8\n",
       "beat_0113              uint8\n",
       "beat_0114              uint8\n",
       "beat_0121              uint8\n",
       "beat_0122              uint8\n",
       "beat_0123              uint8\n",
       "beat_0124              uint8\n",
       "beat_0131              uint8\n",
       "beat_0132              uint8\n",
       "beat_0133              uint8\n",
       "beat_0211              uint8\n",
       "beat_0212              uint8\n",
       "beat_0213              uint8\n",
       "beat_0214              uint8\n",
       "beat_0215              uint8\n",
       "beat_0221              uint8\n",
       "beat_0222              uint8\n",
       "beat_0223              uint8\n",
       "beat_0224              uint8\n",
       "beat_0225              uint8\n",
       "beat_0231              uint8\n",
       "beat_0232              uint8\n",
       "beat_0233              uint8\n",
       "beat_0234              uint8\n",
       "                      ...   \n",
       "minute_49              uint8\n",
       "minute_50              uint8\n",
       "minute_51              uint8\n",
       "minute_52              uint8\n",
       "minute_53              uint8\n",
       "minute_54              uint8\n",
       "minute_55              uint8\n",
       "minute_56              uint8\n",
       "minute_57              uint8\n",
       "minute_58              uint8\n",
       "minute_59              uint8\n",
       "weekday_Friday         uint8\n",
       "weekday_Monday         uint8\n",
       "weekday_Saturday       uint8\n",
       "weekday_Sunday         uint8\n",
       "weekday_Thursday       uint8\n",
       "weekday_Tuesday        uint8\n",
       "weekday_Wednesday      uint8\n",
       "month_1                uint8\n",
       "month_2                uint8\n",
       "month_3                uint8\n",
       "month_4                uint8\n",
       "month_5                uint8\n",
       "month_6                uint8\n",
       "month_7                uint8\n",
       "month_8                uint8\n",
       "month_9                uint8\n",
       "month_10               uint8\n",
       "month_11               uint8\n",
       "month_12               uint8\n",
       "Length: 532, dtype: object"
      ]
     },
     "execution_count": 15,
     "metadata": {},
     "output_type": "execute_result"
    }
   ],
   "source": [
    "dummies.dtypes"
   ]
  },
  {
   "cell_type": "code",
   "execution_count": 16,
   "metadata": {},
   "outputs": [],
   "source": [
    "y = df['primary_type']\n",
    "feature_list = list(dummies.columns)\n",
    "features = np.array(dummies)\n",
    "x_train, x_test, y_train, y_test = train_test_split(features, y, test_size = 0.25, random_state = 42)"
   ]
  },
  {
   "cell_type": "code",
   "execution_count": 18,
   "metadata": {},
   "outputs": [
    {
     "name": "stdout",
     "output_type": "stream",
     "text": [
      "Training Features Shape: (222757, 532)\n",
      "Training Labels Shape: (222757,)\n",
      "Testing Features Shape: (74253, 532)\n",
      "Testing Labels Shape: (74253,)\n"
     ]
    }
   ],
   "source": [
    "print('Training Features Shape:', x_train.shape)\n",
    "print('Training Labels Shape:', y_train.shape)\n",
    "print('Testing Features Shape:', x_test.shape)\n",
    "print('Testing Labels Shape:', y_test.shape)"
   ]
  },
  {
   "cell_type": "code",
   "execution_count": 19,
   "metadata": {},
   "outputs": [
    {
     "data": {
      "text/html": [
       "<div>\n",
       "<style scoped>\n",
       "    .dataframe tbody tr th:only-of-type {\n",
       "        vertical-align: middle;\n",
       "    }\n",
       "\n",
       "    .dataframe tbody tr th {\n",
       "        vertical-align: top;\n",
       "    }\n",
       "\n",
       "    .dataframe thead th {\n",
       "        text-align: right;\n",
       "    }\n",
       "</style>\n",
       "<table border=\"1\" class=\"dataframe\">\n",
       "  <thead>\n",
       "    <tr style=\"text-align: right;\">\n",
       "      <th></th>\n",
       "      <th>IUCR</th>\n",
       "      <th>PRIMARY DESCRIPTION</th>\n",
       "      <th>SECONDARY DESCRIPTION</th>\n",
       "      <th>INDEX CODE</th>\n",
       "    </tr>\n",
       "  </thead>\n",
       "  <tbody>\n",
       "    <tr>\n",
       "      <th>0</th>\n",
       "      <td>110</td>\n",
       "      <td>HOMICIDE</td>\n",
       "      <td>FIRST DEGREE MURDER</td>\n",
       "      <td>I</td>\n",
       "    </tr>\n",
       "    <tr>\n",
       "      <th>1</th>\n",
       "      <td>130</td>\n",
       "      <td>HOMICIDE</td>\n",
       "      <td>SECOND DEGREE MURDER</td>\n",
       "      <td>I</td>\n",
       "    </tr>\n",
       "    <tr>\n",
       "      <th>2</th>\n",
       "      <td>141</td>\n",
       "      <td>HOMICIDE</td>\n",
       "      <td>INVOLUNTARY MANSLAUGHTER</td>\n",
       "      <td>N</td>\n",
       "    </tr>\n",
       "    <tr>\n",
       "      <th>3</th>\n",
       "      <td>142</td>\n",
       "      <td>HOMICIDE</td>\n",
       "      <td>RECKLESS HOMICIDE</td>\n",
       "      <td>N</td>\n",
       "    </tr>\n",
       "    <tr>\n",
       "      <th>4</th>\n",
       "      <td>261</td>\n",
       "      <td>CRIM SEXUAL ASSAULT</td>\n",
       "      <td>AGGRAVATED: HANDGUN</td>\n",
       "      <td>I</td>\n",
       "    </tr>\n",
       "    <tr>\n",
       "      <th>5</th>\n",
       "      <td>262</td>\n",
       "      <td>CRIM SEXUAL ASSAULT</td>\n",
       "      <td>AGGRAVATED: OTHER FIREARM</td>\n",
       "      <td>I</td>\n",
       "    </tr>\n",
       "    <tr>\n",
       "      <th>6</th>\n",
       "      <td>263</td>\n",
       "      <td>CRIM SEXUAL ASSAULT</td>\n",
       "      <td>AGGRAVATED: KNIFE/CUT INSTR</td>\n",
       "      <td>I</td>\n",
       "    </tr>\n",
       "    <tr>\n",
       "      <th>7</th>\n",
       "      <td>264</td>\n",
       "      <td>CRIM SEXUAL ASSAULT</td>\n",
       "      <td>AGGRAVATED: OTHER DANG WEAPON</td>\n",
       "      <td>I</td>\n",
       "    </tr>\n",
       "    <tr>\n",
       "      <th>8</th>\n",
       "      <td>265</td>\n",
       "      <td>CRIM SEXUAL ASSAULT</td>\n",
       "      <td>AGGRAVATED: OTHER</td>\n",
       "      <td>I</td>\n",
       "    </tr>\n",
       "    <tr>\n",
       "      <th>9</th>\n",
       "      <td>266</td>\n",
       "      <td>CRIM SEXUAL ASSAULT</td>\n",
       "      <td>PREDATORY</td>\n",
       "      <td>I</td>\n",
       "    </tr>\n",
       "    <tr>\n",
       "      <th>10</th>\n",
       "      <td>271</td>\n",
       "      <td>CRIM SEXUAL ASSAULT</td>\n",
       "      <td>ATTEMPT AGG: HANDGUN</td>\n",
       "      <td>I</td>\n",
       "    </tr>\n",
       "    <tr>\n",
       "      <th>11</th>\n",
       "      <td>272</td>\n",
       "      <td>CRIM SEXUAL ASSAULT</td>\n",
       "      <td>ATTEMPT AGG: OTHER FIREARM</td>\n",
       "      <td>I</td>\n",
       "    </tr>\n",
       "    <tr>\n",
       "      <th>12</th>\n",
       "      <td>273</td>\n",
       "      <td>CRIM SEXUAL ASSAULT</td>\n",
       "      <td>ATTEMPT AGG: KNIFE/CUT INSTR</td>\n",
       "      <td>I</td>\n",
       "    </tr>\n",
       "    <tr>\n",
       "      <th>13</th>\n",
       "      <td>274</td>\n",
       "      <td>CRIM SEXUAL ASSAULT</td>\n",
       "      <td>ATTEMPT AGG: OTHER DANG WEAPON</td>\n",
       "      <td>I</td>\n",
       "    </tr>\n",
       "    <tr>\n",
       "      <th>14</th>\n",
       "      <td>275</td>\n",
       "      <td>CRIM SEXUAL ASSAULT</td>\n",
       "      <td>ATTEMPT AGG: OTHER</td>\n",
       "      <td>I</td>\n",
       "    </tr>\n",
       "    <tr>\n",
       "      <th>15</th>\n",
       "      <td>281</td>\n",
       "      <td>CRIM SEXUAL ASSAULT</td>\n",
       "      <td>NON-AGGRAVATED</td>\n",
       "      <td>I</td>\n",
       "    </tr>\n",
       "    <tr>\n",
       "      <th>16</th>\n",
       "      <td>291</td>\n",
       "      <td>CRIM SEXUAL ASSAULT</td>\n",
       "      <td>ATTEMPT NON-AGGRAVATED</td>\n",
       "      <td>I</td>\n",
       "    </tr>\n",
       "    <tr>\n",
       "      <th>17</th>\n",
       "      <td>312</td>\n",
       "      <td>ROBBERY</td>\n",
       "      <td>ARMED:KNIFE/CUTTING INSTRUMENT</td>\n",
       "      <td>I</td>\n",
       "    </tr>\n",
       "    <tr>\n",
       "      <th>18</th>\n",
       "      <td>313</td>\n",
       "      <td>ROBBERY</td>\n",
       "      <td>ARMED: OTHER DANGEROUS WEAPON</td>\n",
       "      <td>I</td>\n",
       "    </tr>\n",
       "    <tr>\n",
       "      <th>19</th>\n",
       "      <td>031A</td>\n",
       "      <td>ROBBERY</td>\n",
       "      <td>ARMED: HANDGUN</td>\n",
       "      <td>I</td>\n",
       "    </tr>\n",
       "    <tr>\n",
       "      <th>20</th>\n",
       "      <td>031B</td>\n",
       "      <td>ROBBERY</td>\n",
       "      <td>ARMED: OTHER FIREARM</td>\n",
       "      <td>I</td>\n",
       "    </tr>\n",
       "    <tr>\n",
       "      <th>21</th>\n",
       "      <td>320</td>\n",
       "      <td>ROBBERY</td>\n",
       "      <td>STRONGARM - NO WEAPON</td>\n",
       "      <td>I</td>\n",
       "    </tr>\n",
       "    <tr>\n",
       "      <th>22</th>\n",
       "      <td>325</td>\n",
       "      <td>ROBBERY</td>\n",
       "      <td>VEHICULAR HIJACKING</td>\n",
       "      <td>I</td>\n",
       "    </tr>\n",
       "    <tr>\n",
       "      <th>23</th>\n",
       "      <td>326</td>\n",
       "      <td>ROBBERY</td>\n",
       "      <td>AGGRAVATED VEHICULAR HIJACKING</td>\n",
       "      <td>I</td>\n",
       "    </tr>\n",
       "    <tr>\n",
       "      <th>24</th>\n",
       "      <td>330</td>\n",
       "      <td>ROBBERY</td>\n",
       "      <td>AGGRAVATED</td>\n",
       "      <td>I</td>\n",
       "    </tr>\n",
       "    <tr>\n",
       "      <th>25</th>\n",
       "      <td>331</td>\n",
       "      <td>ROBBERY</td>\n",
       "      <td>ATTEMPT: AGGRAVATED</td>\n",
       "      <td>I</td>\n",
       "    </tr>\n",
       "    <tr>\n",
       "      <th>26</th>\n",
       "      <td>334</td>\n",
       "      <td>ROBBERY</td>\n",
       "      <td>ATTEMPT: ARMED-KNIFE/CUT INSTR</td>\n",
       "      <td>I</td>\n",
       "    </tr>\n",
       "    <tr>\n",
       "      <th>27</th>\n",
       "      <td>337</td>\n",
       "      <td>ROBBERY</td>\n",
       "      <td>ATTEMPT: ARMED-OTHER DANG WEAP</td>\n",
       "      <td>I</td>\n",
       "    </tr>\n",
       "    <tr>\n",
       "      <th>28</th>\n",
       "      <td>033A</td>\n",
       "      <td>ROBBERY</td>\n",
       "      <td>ATTEMPT: ARMED-HANDGUN</td>\n",
       "      <td>I</td>\n",
       "    </tr>\n",
       "    <tr>\n",
       "      <th>29</th>\n",
       "      <td>033B</td>\n",
       "      <td>ROBBERY</td>\n",
       "      <td>ATTEMPT: ARMED-OTHER FIREARM</td>\n",
       "      <td>I</td>\n",
       "    </tr>\n",
       "    <tr>\n",
       "      <th>...</th>\n",
       "      <td>...</td>\n",
       "      <td>...</td>\n",
       "      <td>...</td>\n",
       "      <td>...</td>\n",
       "    </tr>\n",
       "    <tr>\n",
       "      <th>371</th>\n",
       "      <td>4652</td>\n",
       "      <td>OTHER OFFENSE</td>\n",
       "      <td>SEX OFFENDER: PROHIBITED ZONE</td>\n",
       "      <td>N</td>\n",
       "    </tr>\n",
       "    <tr>\n",
       "      <th>372</th>\n",
       "      <td>4740</td>\n",
       "      <td>OTHER OFFENSE</td>\n",
       "      <td>UNLAWFUL USE OF BODY ARMOR</td>\n",
       "      <td>N</td>\n",
       "    </tr>\n",
       "    <tr>\n",
       "      <th>373</th>\n",
       "      <td>4750</td>\n",
       "      <td>OTHER OFFENSE</td>\n",
       "      <td>DISCLOSE DV VICTIM LOCATION</td>\n",
       "      <td>N</td>\n",
       "    </tr>\n",
       "    <tr>\n",
       "      <th>374</th>\n",
       "      <td>4800</td>\n",
       "      <td>OTHER OFFENSE</td>\n",
       "      <td>MONEY LAUNDERING</td>\n",
       "      <td>N</td>\n",
       "    </tr>\n",
       "    <tr>\n",
       "      <th>375</th>\n",
       "      <td>4810</td>\n",
       "      <td>OTHER OFFENSE</td>\n",
       "      <td>COMPOUNDING A CRIME</td>\n",
       "      <td>N</td>\n",
       "    </tr>\n",
       "    <tr>\n",
       "      <th>376</th>\n",
       "      <td>4860</td>\n",
       "      <td>OTHER OFFENSE</td>\n",
       "      <td>BOARD PLANE WITH WEAPON</td>\n",
       "      <td>N</td>\n",
       "    </tr>\n",
       "    <tr>\n",
       "      <th>377</th>\n",
       "      <td>5000</td>\n",
       "      <td>OTHER OFFENSE</td>\n",
       "      <td>OTHER CRIME AGAINST PERSON</td>\n",
       "      <td>N</td>\n",
       "    </tr>\n",
       "    <tr>\n",
       "      <th>378</th>\n",
       "      <td>5001</td>\n",
       "      <td>OTHER OFFENSE</td>\n",
       "      <td>OTHER CRIME INVOLVING PROPERTY</td>\n",
       "      <td>N</td>\n",
       "    </tr>\n",
       "    <tr>\n",
       "      <th>379</th>\n",
       "      <td>5002</td>\n",
       "      <td>OTHER OFFENSE</td>\n",
       "      <td>OTHER VEHICLE OFFENSE</td>\n",
       "      <td>N</td>\n",
       "    </tr>\n",
       "    <tr>\n",
       "      <th>380</th>\n",
       "      <td>5003</td>\n",
       "      <td>OTHER OFFENSE</td>\n",
       "      <td>OTHER ARSON/EXPLOSIVE INCIDENT</td>\n",
       "      <td>N</td>\n",
       "    </tr>\n",
       "    <tr>\n",
       "      <th>381</th>\n",
       "      <td>5004</td>\n",
       "      <td>SEX OFFENSE</td>\n",
       "      <td>ATT CRIM SEXUAL ABUSE</td>\n",
       "      <td>N</td>\n",
       "    </tr>\n",
       "    <tr>\n",
       "      <th>382</th>\n",
       "      <td>5007</td>\n",
       "      <td>OTHER OFFENSE</td>\n",
       "      <td>OTHER WEAPONS VIOLATION</td>\n",
       "      <td>N</td>\n",
       "    </tr>\n",
       "    <tr>\n",
       "      <th>383</th>\n",
       "      <td>5009</td>\n",
       "      <td>OTHER OFFENSE</td>\n",
       "      <td>VIOLATION OF SMOKING BAN</td>\n",
       "      <td>N</td>\n",
       "    </tr>\n",
       "    <tr>\n",
       "      <th>384</th>\n",
       "      <td>500E</td>\n",
       "      <td>OTHER OFFENSE</td>\n",
       "      <td>EAVESDROPPING</td>\n",
       "      <td>N</td>\n",
       "    </tr>\n",
       "    <tr>\n",
       "      <th>385</th>\n",
       "      <td>500N</td>\n",
       "      <td>OTHER OFFENSE</td>\n",
       "      <td>ABUSE/NEGLECT: CARE FACILITY</td>\n",
       "      <td>N</td>\n",
       "    </tr>\n",
       "    <tr>\n",
       "      <th>386</th>\n",
       "      <td>5011</td>\n",
       "      <td>OTHER OFFENSE</td>\n",
       "      <td>LICENSE VIOLATION</td>\n",
       "      <td>N</td>\n",
       "    </tr>\n",
       "    <tr>\n",
       "      <th>387</th>\n",
       "      <td>501A</td>\n",
       "      <td>OTHER OFFENSE</td>\n",
       "      <td>ANIMAL ABUSE/NEGLECT</td>\n",
       "      <td>N</td>\n",
       "    </tr>\n",
       "    <tr>\n",
       "      <th>388</th>\n",
       "      <td>501H</td>\n",
       "      <td>OTHER OFFENSE</td>\n",
       "      <td>HAZARDOUS MATERIALS VIOLATION</td>\n",
       "      <td>N</td>\n",
       "    </tr>\n",
       "    <tr>\n",
       "      <th>389</th>\n",
       "      <td>502P</td>\n",
       "      <td>OTHER OFFENSE</td>\n",
       "      <td>FALSE/STOLEN/ALTERED TRP</td>\n",
       "      <td>N</td>\n",
       "    </tr>\n",
       "    <tr>\n",
       "      <th>390</th>\n",
       "      <td>502R</td>\n",
       "      <td>OTHER OFFENSE</td>\n",
       "      <td>VEHICLE TITLE/REG OFFENSE</td>\n",
       "      <td>N</td>\n",
       "    </tr>\n",
       "    <tr>\n",
       "      <th>391</th>\n",
       "      <td>502T</td>\n",
       "      <td>OTHER OFFENSE</td>\n",
       "      <td>TAMPER WITH MOTOR VEHICLE</td>\n",
       "      <td>N</td>\n",
       "    </tr>\n",
       "    <tr>\n",
       "      <th>392</th>\n",
       "      <td>5110</td>\n",
       "      <td>OTHER OFFENSE</td>\n",
       "      <td>GUN OFFENDER: DUTY TO REGISTER</td>\n",
       "      <td>N</td>\n",
       "    </tr>\n",
       "    <tr>\n",
       "      <th>393</th>\n",
       "      <td>5111</td>\n",
       "      <td>OTHER OFFENSE</td>\n",
       "      <td>GUN OFFENDER: ANNUAL REGISTRATION</td>\n",
       "      <td>N</td>\n",
       "    </tr>\n",
       "    <tr>\n",
       "      <th>394</th>\n",
       "      <td>5112</td>\n",
       "      <td>OTHER OFFENSE</td>\n",
       "      <td>GUN OFFENDER: DUTY TO REPORT CHANGE OF INFORMA...</td>\n",
       "      <td>N</td>\n",
       "    </tr>\n",
       "    <tr>\n",
       "      <th>395</th>\n",
       "      <td>5120</td>\n",
       "      <td>OTHER OFFENSE</td>\n",
       "      <td>ARSONIST: DUTY TO REGISTER</td>\n",
       "      <td>N</td>\n",
       "    </tr>\n",
       "    <tr>\n",
       "      <th>396</th>\n",
       "      <td>5121</td>\n",
       "      <td>OTHER OFFENSE</td>\n",
       "      <td>ARSONIST: ANNUAL REGISTRATION</td>\n",
       "      <td>N</td>\n",
       "    </tr>\n",
       "    <tr>\n",
       "      <th>397</th>\n",
       "      <td>5122</td>\n",
       "      <td>OTHER OFFENSE</td>\n",
       "      <td>ARSONIST: FAIL TO REGISTER NEW ADDRESS</td>\n",
       "      <td>N</td>\n",
       "    </tr>\n",
       "    <tr>\n",
       "      <th>398</th>\n",
       "      <td>5130</td>\n",
       "      <td>OTHER OFFENSE</td>\n",
       "      <td>VIOLENT OFFENDER: DUTY TO REGISTER</td>\n",
       "      <td>N</td>\n",
       "    </tr>\n",
       "    <tr>\n",
       "      <th>399</th>\n",
       "      <td>5131</td>\n",
       "      <td>OTHER OFFENSE</td>\n",
       "      <td>VIOLENT OFFENDER: ANNUAL REGISTRATION</td>\n",
       "      <td>N</td>\n",
       "    </tr>\n",
       "    <tr>\n",
       "      <th>400</th>\n",
       "      <td>5132</td>\n",
       "      <td>OTHER OFFENSE</td>\n",
       "      <td>VIOLENT OFFENDER: FAIL TO REGISTER NEW ADDRESS</td>\n",
       "      <td>N</td>\n",
       "    </tr>\n",
       "  </tbody>\n",
       "</table>\n",
       "<p>401 rows × 4 columns</p>\n",
       "</div>"
      ],
      "text/plain": [
       "     IUCR  PRIMARY DESCRIPTION  \\\n",
       "0     110             HOMICIDE   \n",
       "1     130             HOMICIDE   \n",
       "2     141             HOMICIDE   \n",
       "3     142             HOMICIDE   \n",
       "4     261  CRIM SEXUAL ASSAULT   \n",
       "5     262  CRIM SEXUAL ASSAULT   \n",
       "6     263  CRIM SEXUAL ASSAULT   \n",
       "7     264  CRIM SEXUAL ASSAULT   \n",
       "8     265  CRIM SEXUAL ASSAULT   \n",
       "9     266  CRIM SEXUAL ASSAULT   \n",
       "10    271  CRIM SEXUAL ASSAULT   \n",
       "11    272  CRIM SEXUAL ASSAULT   \n",
       "12    273  CRIM SEXUAL ASSAULT   \n",
       "13    274  CRIM SEXUAL ASSAULT   \n",
       "14    275  CRIM SEXUAL ASSAULT   \n",
       "15    281  CRIM SEXUAL ASSAULT   \n",
       "16    291  CRIM SEXUAL ASSAULT   \n",
       "17    312              ROBBERY   \n",
       "18    313              ROBBERY   \n",
       "19   031A              ROBBERY   \n",
       "20   031B              ROBBERY   \n",
       "21    320              ROBBERY   \n",
       "22    325              ROBBERY   \n",
       "23    326              ROBBERY   \n",
       "24    330              ROBBERY   \n",
       "25    331              ROBBERY   \n",
       "26    334              ROBBERY   \n",
       "27    337              ROBBERY   \n",
       "28   033A              ROBBERY   \n",
       "29   033B              ROBBERY   \n",
       "..    ...                  ...   \n",
       "371  4652        OTHER OFFENSE   \n",
       "372  4740        OTHER OFFENSE   \n",
       "373  4750        OTHER OFFENSE   \n",
       "374  4800        OTHER OFFENSE   \n",
       "375  4810        OTHER OFFENSE   \n",
       "376  4860        OTHER OFFENSE   \n",
       "377  5000        OTHER OFFENSE   \n",
       "378  5001        OTHER OFFENSE   \n",
       "379  5002        OTHER OFFENSE   \n",
       "380  5003        OTHER OFFENSE   \n",
       "381  5004          SEX OFFENSE   \n",
       "382  5007        OTHER OFFENSE   \n",
       "383  5009        OTHER OFFENSE   \n",
       "384  500E        OTHER OFFENSE   \n",
       "385  500N        OTHER OFFENSE   \n",
       "386  5011        OTHER OFFENSE   \n",
       "387  501A        OTHER OFFENSE   \n",
       "388  501H        OTHER OFFENSE   \n",
       "389  502P        OTHER OFFENSE   \n",
       "390  502R        OTHER OFFENSE   \n",
       "391  502T        OTHER OFFENSE   \n",
       "392  5110        OTHER OFFENSE   \n",
       "393  5111        OTHER OFFENSE   \n",
       "394  5112        OTHER OFFENSE   \n",
       "395  5120        OTHER OFFENSE   \n",
       "396  5121        OTHER OFFENSE   \n",
       "397  5122        OTHER OFFENSE   \n",
       "398  5130        OTHER OFFENSE   \n",
       "399  5131        OTHER OFFENSE   \n",
       "400  5132        OTHER OFFENSE   \n",
       "\n",
       "                                 SECONDARY DESCRIPTION INDEX CODE  \n",
       "0                                  FIRST DEGREE MURDER          I  \n",
       "1                                 SECOND DEGREE MURDER          I  \n",
       "2                             INVOLUNTARY MANSLAUGHTER          N  \n",
       "3                                    RECKLESS HOMICIDE          N  \n",
       "4                                  AGGRAVATED: HANDGUN          I  \n",
       "5                            AGGRAVATED: OTHER FIREARM          I  \n",
       "6                          AGGRAVATED: KNIFE/CUT INSTR          I  \n",
       "7                        AGGRAVATED: OTHER DANG WEAPON          I  \n",
       "8                                    AGGRAVATED: OTHER          I  \n",
       "9                                            PREDATORY          I  \n",
       "10                                ATTEMPT AGG: HANDGUN          I  \n",
       "11                          ATTEMPT AGG: OTHER FIREARM          I  \n",
       "12                        ATTEMPT AGG: KNIFE/CUT INSTR          I  \n",
       "13                      ATTEMPT AGG: OTHER DANG WEAPON          I  \n",
       "14                                  ATTEMPT AGG: OTHER          I  \n",
       "15                                      NON-AGGRAVATED          I  \n",
       "16                              ATTEMPT NON-AGGRAVATED          I  \n",
       "17                      ARMED:KNIFE/CUTTING INSTRUMENT          I  \n",
       "18                       ARMED: OTHER DANGEROUS WEAPON          I  \n",
       "19                                      ARMED: HANDGUN          I  \n",
       "20                                ARMED: OTHER FIREARM          I  \n",
       "21                               STRONGARM - NO WEAPON          I  \n",
       "22                                 VEHICULAR HIJACKING          I  \n",
       "23                      AGGRAVATED VEHICULAR HIJACKING          I  \n",
       "24                                          AGGRAVATED          I  \n",
       "25                                 ATTEMPT: AGGRAVATED          I  \n",
       "26                      ATTEMPT: ARMED-KNIFE/CUT INSTR          I  \n",
       "27                      ATTEMPT: ARMED-OTHER DANG WEAP          I  \n",
       "28                              ATTEMPT: ARMED-HANDGUN          I  \n",
       "29                        ATTEMPT: ARMED-OTHER FIREARM          I  \n",
       "..                                                 ...        ...  \n",
       "371                      SEX OFFENDER: PROHIBITED ZONE          N  \n",
       "372                         UNLAWFUL USE OF BODY ARMOR          N  \n",
       "373                        DISCLOSE DV VICTIM LOCATION          N  \n",
       "374                                   MONEY LAUNDERING          N  \n",
       "375                                COMPOUNDING A CRIME          N  \n",
       "376                            BOARD PLANE WITH WEAPON          N  \n",
       "377                         OTHER CRIME AGAINST PERSON          N  \n",
       "378                     OTHER CRIME INVOLVING PROPERTY          N  \n",
       "379                              OTHER VEHICLE OFFENSE          N  \n",
       "380                     OTHER ARSON/EXPLOSIVE INCIDENT          N  \n",
       "381                              ATT CRIM SEXUAL ABUSE          N  \n",
       "382                            OTHER WEAPONS VIOLATION          N  \n",
       "383                           VIOLATION OF SMOKING BAN          N  \n",
       "384                                      EAVESDROPPING          N  \n",
       "385                       ABUSE/NEGLECT: CARE FACILITY          N  \n",
       "386                                  LICENSE VIOLATION          N  \n",
       "387                               ANIMAL ABUSE/NEGLECT          N  \n",
       "388                      HAZARDOUS MATERIALS VIOLATION          N  \n",
       "389                           FALSE/STOLEN/ALTERED TRP          N  \n",
       "390                          VEHICLE TITLE/REG OFFENSE          N  \n",
       "391                          TAMPER WITH MOTOR VEHICLE          N  \n",
       "392                     GUN OFFENDER: DUTY TO REGISTER          N  \n",
       "393                  GUN OFFENDER: ANNUAL REGISTRATION          N  \n",
       "394  GUN OFFENDER: DUTY TO REPORT CHANGE OF INFORMA...          N  \n",
       "395                         ARSONIST: DUTY TO REGISTER          N  \n",
       "396                      ARSONIST: ANNUAL REGISTRATION          N  \n",
       "397             ARSONIST: FAIL TO REGISTER NEW ADDRESS          N  \n",
       "398                 VIOLENT OFFENDER: DUTY TO REGISTER          N  \n",
       "399              VIOLENT OFFENDER: ANNUAL REGISTRATION          N  \n",
       "400     VIOLENT OFFENDER: FAIL TO REGISTER NEW ADDRESS          N  \n",
       "\n",
       "[401 rows x 4 columns]"
      ]
     },
     "execution_count": 19,
     "metadata": {},
     "output_type": "execute_result"
    }
   ],
   "source": [
    "iucrc"
   ]
  },
  {
   "cell_type": "code",
   "execution_count": 185,
   "metadata": {},
   "outputs": [
    {
     "ename": "ValueError",
     "evalue": "could not convert string to float: '143A'",
     "output_type": "error",
     "traceback": [
      "\u001b[0;31m---------------------------------------------------------------------------\u001b[0m",
      "\u001b[0;31mValueError\u001b[0m                                Traceback (most recent call last)",
      "\u001b[0;32m<ipython-input-185-17cf98196c81>\u001b[0m in \u001b[0;36m<module>\u001b[0;34m\u001b[0m\n\u001b[1;32m      2\u001b[0m \u001b[0mrf\u001b[0m \u001b[0;34m=\u001b[0m \u001b[0mRandomForestRegressor\u001b[0m\u001b[0;34m(\u001b[0m\u001b[0mn_estimators\u001b[0m \u001b[0;34m=\u001b[0m \u001b[0;36m1000\u001b[0m\u001b[0;34m,\u001b[0m \u001b[0mrandom_state\u001b[0m \u001b[0;34m=\u001b[0m \u001b[0;36m42\u001b[0m\u001b[0;34m)\u001b[0m\u001b[0;34m\u001b[0m\u001b[0m\n\u001b[1;32m      3\u001b[0m \u001b[0;31m# Train the model on training data\u001b[0m\u001b[0;34m\u001b[0m\u001b[0;34m\u001b[0m\u001b[0m\n\u001b[0;32m----> 4\u001b[0;31m \u001b[0mrf\u001b[0m\u001b[0;34m.\u001b[0m\u001b[0mfit\u001b[0m\u001b[0;34m(\u001b[0m\u001b[0mx_train\u001b[0m\u001b[0;34m,\u001b[0m \u001b[0my_train\u001b[0m\u001b[0;34m)\u001b[0m\u001b[0;34m;\u001b[0m\u001b[0;34m\u001b[0m\u001b[0m\n\u001b[0m",
      "\u001b[0;32m~/venv/lib/python3.6/site-packages/sklearn/ensemble/forest.py\u001b[0m in \u001b[0;36mfit\u001b[0;34m(self, X, y, sample_weight)\u001b[0m\n\u001b[1;32m    279\u001b[0m \u001b[0;34m\u001b[0m\u001b[0m\n\u001b[1;32m    280\u001b[0m         \u001b[0;32mif\u001b[0m \u001b[0mgetattr\u001b[0m\u001b[0;34m(\u001b[0m\u001b[0my\u001b[0m\u001b[0;34m,\u001b[0m \u001b[0;34m\"dtype\"\u001b[0m\u001b[0;34m,\u001b[0m \u001b[0;32mNone\u001b[0m\u001b[0;34m)\u001b[0m \u001b[0;34m!=\u001b[0m \u001b[0mDOUBLE\u001b[0m \u001b[0;32mor\u001b[0m \u001b[0;32mnot\u001b[0m \u001b[0my\u001b[0m\u001b[0;34m.\u001b[0m\u001b[0mflags\u001b[0m\u001b[0;34m.\u001b[0m\u001b[0mcontiguous\u001b[0m\u001b[0;34m:\u001b[0m\u001b[0;34m\u001b[0m\u001b[0m\n\u001b[0;32m--> 281\u001b[0;31m             \u001b[0my\u001b[0m \u001b[0;34m=\u001b[0m \u001b[0mnp\u001b[0m\u001b[0;34m.\u001b[0m\u001b[0mascontiguousarray\u001b[0m\u001b[0;34m(\u001b[0m\u001b[0my\u001b[0m\u001b[0;34m,\u001b[0m \u001b[0mdtype\u001b[0m\u001b[0;34m=\u001b[0m\u001b[0mDOUBLE\u001b[0m\u001b[0;34m)\u001b[0m\u001b[0;34m\u001b[0m\u001b[0m\n\u001b[0m\u001b[1;32m    282\u001b[0m \u001b[0;34m\u001b[0m\u001b[0m\n\u001b[1;32m    283\u001b[0m         \u001b[0;32mif\u001b[0m \u001b[0mexpanded_class_weight\u001b[0m \u001b[0;32mis\u001b[0m \u001b[0;32mnot\u001b[0m \u001b[0;32mNone\u001b[0m\u001b[0;34m:\u001b[0m\u001b[0;34m\u001b[0m\u001b[0m\n",
      "\u001b[0;32m~/venv/lib/python3.6/site-packages/numpy/core/numeric.py\u001b[0m in \u001b[0;36mascontiguousarray\u001b[0;34m(a, dtype)\u001b[0m\n\u001b[1;32m    588\u001b[0m \u001b[0;34m\u001b[0m\u001b[0m\n\u001b[1;32m    589\u001b[0m     \"\"\"\n\u001b[0;32m--> 590\u001b[0;31m     \u001b[0;32mreturn\u001b[0m \u001b[0marray\u001b[0m\u001b[0;34m(\u001b[0m\u001b[0ma\u001b[0m\u001b[0;34m,\u001b[0m \u001b[0mdtype\u001b[0m\u001b[0;34m,\u001b[0m \u001b[0mcopy\u001b[0m\u001b[0;34m=\u001b[0m\u001b[0;32mFalse\u001b[0m\u001b[0;34m,\u001b[0m \u001b[0morder\u001b[0m\u001b[0;34m=\u001b[0m\u001b[0;34m'C'\u001b[0m\u001b[0;34m,\u001b[0m \u001b[0mndmin\u001b[0m\u001b[0;34m=\u001b[0m\u001b[0;36m1\u001b[0m\u001b[0;34m)\u001b[0m\u001b[0;34m\u001b[0m\u001b[0m\n\u001b[0m\u001b[1;32m    591\u001b[0m \u001b[0;34m\u001b[0m\u001b[0m\n\u001b[1;32m    592\u001b[0m \u001b[0;34m\u001b[0m\u001b[0m\n",
      "\u001b[0;31mValueError\u001b[0m: could not convert string to float: '143A'"
     ]
    }
   ],
   "source": [
    "from sklearn.ensemble import RandomForestRegressor\n",
    "rf = RandomForestRegressor(n_estimators = 1000, random_state = 42)\n",
    "# Train the model on training data\n",
    "rf.fit(x_train, y_train);"
   ]
  },
  {
   "cell_type": "code",
   "execution_count": 49,
   "metadata": {},
   "outputs": [
    {
     "ename": "TypeError",
     "evalue": "'str' object does not support item assignment",
     "output_type": "error",
     "traceback": [
      "\u001b[0;31m---------------------------------------------------------------------------\u001b[0m",
      "\u001b[0;31mTypeError\u001b[0m                                 Traceback (most recent call last)",
      "\u001b[0;32m<ipython-input-49-3931ee6546a0>\u001b[0m in \u001b[0;36m<module>\u001b[0;34m\u001b[0m\n\u001b[1;32m      3\u001b[0m         \u001b[0mdf\u001b[0m\u001b[0;34m[\u001b[0m\u001b[0;34m'primary_type'\u001b[0m\u001b[0;34m]\u001b[0m\u001b[0;34m[\u001b[0m\u001b[0mindex\u001b[0m\u001b[0;34m]\u001b[0m\u001b[0;34m=\u001b[0m\u001b[0;36m1\u001b[0m\u001b[0;34m\u001b[0m\u001b[0m\n\u001b[1;32m      4\u001b[0m     \u001b[0;32melse\u001b[0m\u001b[0;34m:\u001b[0m\u001b[0;34m\u001b[0m\u001b[0m\n\u001b[0;32m----> 5\u001b[0;31m         \u001b[0mrow\u001b[0m\u001b[0;34m[\u001b[0m\u001b[0;34m'primary_type'\u001b[0m\u001b[0;34m]\u001b[0m\u001b[0;34m[\u001b[0m\u001b[0mindex\u001b[0m\u001b[0;34m]\u001b[0m\u001b[0;34m=\u001b[0m\u001b[0;36m0\u001b[0m\u001b[0;34m\u001b[0m\u001b[0m\n\u001b[0m",
      "\u001b[0;31mTypeError\u001b[0m: 'str' object does not support item assignment"
     ]
    }
   ],
   "source": [
    "for index, row in df.iterrows():\n",
    "    if row['primary_type']=='HOMICIDE'or row['primary_type']=='CRIM SEXUAL ASSAULT':\n",
    "        df['primary_type'][index]=1\n",
    "    else:\n",
    "        row['primary_type'][index]=0"
   ]
  },
  {
   "cell_type": "code",
   "execution_count": 42,
   "metadata": {},
   "outputs": [
    {
     "data": {
      "text/plain": [
       "0.812753459170338"
      ]
     },
     "execution_count": 42,
     "metadata": {},
     "output_type": "execute_result"
    }
   ],
   "source": [
    "count*100/296892"
   ]
  },
  {
   "cell_type": "code",
   "execution_count": 48,
   "metadata": {},
   "outputs": [
    {
     "data": {
      "text/plain": [
       "'ASSAULT'"
      ]
     },
     "execution_count": 48,
     "metadata": {},
     "output_type": "execute_result"
    }
   ],
   "source": [
    "df['primary_type'][1]"
   ]
  },
  {
   "cell_type": "code",
   "execution_count": null,
   "metadata": {},
   "outputs": [],
   "source": [
    "x_traindf = pd.DataFrame(x_train)\n",
    "cor = x_traindf.corr() #Calculate the correlation of the above variables\n",
    "sns.heatmap(cor, square = True) #Plot the correlation as heat map"
   ]
  },
  {
   "cell_type": "code",
   "execution_count": null,
   "metadata": {},
   "outputs": [],
   "source": [
    "# plotting joint distributions \n",
    "x_traindf = pd.DataFrame(x_train)\n",
    "sns.pairplot(df[[\"arrest\", \"latitude\", \"longitude\", \"x_coordinate\", \"y_coordinate\"]], diag_kind=\"kde\")"
   ]
  },
  {
   "cell_type": "code",
   "execution_count": 18,
   "metadata": {},
   "outputs": [],
   "source": [
    "import seaborn as sns"
   ]
  },
  {
   "cell_type": "code",
   "execution_count": 26,
   "metadata": {},
   "outputs": [],
   "source": [
    "df['coordinates'] = list(zip(df['longitude'].astype(float), df['latitude'].astype(float)))"
   ]
  },
  {
   "cell_type": "code",
   "execution_count": 18,
   "metadata": {},
   "outputs": [],
   "source": [
    "import geopandas as gpd\n",
    "from shapely.geometry import Point, LineString"
   ]
  },
  {
   "cell_type": "code",
   "execution_count": 27,
   "metadata": {},
   "outputs": [
    {
     "data": {
      "text/plain": [
       "arrest                           int64\n",
       "beat                            object\n",
       "block                           object\n",
       "case_number                     object\n",
       "community_area                  object\n",
       "date                    datetime64[ns]\n",
       "description                     object\n",
       "district                        object\n",
       "domestic                          bool\n",
       "fbi_code                        object\n",
       "id                              object\n",
       "iucr                            object\n",
       "latitude                        object\n",
       "location                        object\n",
       "location_description            object\n",
       "longitude                       object\n",
       "primary_type                    object\n",
       "updated_on                      object\n",
       "ward                            object\n",
       "x_coordinate                    object\n",
       "y_coordinate                    object\n",
       "year                            object\n",
       "month                            int64\n",
       "minute                           int64\n",
       "hour                             int64\n",
       "weekday                         object\n",
       "Coordinates                     object\n",
       "coordinates                     object\n",
       "dtype: object"
      ]
     },
     "execution_count": 27,
     "metadata": {},
     "output_type": "execute_result"
    }
   ],
   "source": [
    "df.dtypes"
   ]
  },
  {
   "cell_type": "code",
   "execution_count": 29,
   "metadata": {},
   "outputs": [],
   "source": [
    "df['coordinates'] = df['coordinates'].apply(Point)"
   ]
  },
  {
   "cell_type": "code",
   "execution_count": 31,
   "metadata": {},
   "outputs": [],
   "source": [
    "df = df.drop(columns=['Coordinates'])"
   ]
  },
  {
   "cell_type": "code",
   "execution_count": 35,
   "metadata": {},
   "outputs": [
    {
     "ename": "NameError",
     "evalue": "name 'from_epsg' is not defined",
     "output_type": "error",
     "traceback": [
      "\u001b[0;31m---------------------------------------------------------------------------\u001b[0m",
      "\u001b[0;31mNameError\u001b[0m                                 Traceback (most recent call last)",
      "\u001b[0;32m<ipython-input-35-fcecc50ff002>\u001b[0m in \u001b[0;36m<module>\u001b[0;34m\u001b[0m\n\u001b[0;32m----> 1\u001b[0;31m \u001b[0mgdf\u001b[0m \u001b[0;34m=\u001b[0m \u001b[0mgpd\u001b[0m\u001b[0;34m.\u001b[0m\u001b[0mGeoDataFrame\u001b[0m\u001b[0;34m(\u001b[0m\u001b[0mdf\u001b[0m\u001b[0;34m,\u001b[0m \u001b[0mgeometry\u001b[0m\u001b[0;34m=\u001b[0m\u001b[0;34m'coordinates'\u001b[0m\u001b[0;34m,\u001b[0m \u001b[0mcrs\u001b[0m\u001b[0;34m=\u001b[0m\u001b[0mfrom_epsg\u001b[0m\u001b[0;34m(\u001b[0m\u001b[0;36m4326\u001b[0m\u001b[0;34m)\u001b[0m\u001b[0;34m)\u001b[0m\u001b[0;34m\u001b[0m\u001b[0m\n\u001b[0m",
      "\u001b[0;31mNameError\u001b[0m: name 'from_epsg' is not defined"
     ]
    }
   ],
   "source": [
    "gdf = gpd.GeoDataFrame(df, geometry='coordinates', crs=from_epsg(4326))"
   ]
  },
  {
   "cell_type": "code",
   "execution_count": 34,
   "metadata": {},
   "outputs": [
    {
     "data": {
      "text/plain": [
       "<matplotlib.axes._subplots.AxesSubplot at 0x133b328d0>"
      ]
     },
     "execution_count": 34,
     "metadata": {},
     "output_type": "execute_result"
    },
    {
     "data": {
      "image/png": "[encoded data removed]",
      "text/plain": [
       "<Figure size 432x288 with 1 Axes>"
      ]
     },
     "metadata": {
      "needs_background": "light"
     },
     "output_type": "display_data"
    }
   ],
   "source": [
    "gdf.plot()"
   ]
  },
  {
   "cell_type": "code",
   "execution_count": null,
   "metadata": {},
   "outputs": [],
   "source": []
  }
 ],
 "metadata": {
  "kernelspec": {
   "display_name": "Python 3",
   "language": "python",
   "name": "python3"
  },
  "language_info": {
   "codemirror_mode": {
    "name": "ipython",
    "version": 3
   },
   "file_extension": ".py",
   "mimetype": "text/x-python",
   "name": "python",
   "nbconvert_exporter": "python",
   "pygments_lexer": "ipython3",
   "version": "3.6.0"
  }
 },
 "nbformat": 4,
 "nbformat_minor": 2
}
