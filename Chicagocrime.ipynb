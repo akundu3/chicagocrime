{
 "cells": [
  {
   "cell_type": "code",
   "execution_count": 47,
   "metadata": {},
   "outputs": [],
   "source": [
    "# importing libraries\n",
    "import os\n",
    "import numpy as np\n",
    "import pandas as pd\n",
    "from sodapy import Socrata\n",
    "import matplotlib.pyplot as plt"
   ]
  },
  {
   "cell_type": "code",
   "execution_count": 96,
   "metadata": {},
   "outputs": [],
   "source": [
    "import datetime"
   ]
  },
  {
   "cell_type": "code",
   "execution_count": 48,
   "metadata": {},
   "outputs": [],
   "source": [
    "from sklearn.model_selection import train_test_split"
   ]
  },
  {
   "cell_type": "code",
   "execution_count": 49,
   "metadata": {},
   "outputs": [],
   "source": [
    "# creating API connection environment variables\n",
    "socrata_domain = 'data.cityofchicago.org'\n",
    "socrata_dataset_identifier = '6zsd-86xi'\n",
    "# If you choose to use a token, run the following command on the terminal (or add it to your .bashrc)\n",
    "# to get an API visit \n",
    "# $ export SODAPY_APPTOKEN=<token>\n",
    "socrata_token = os.environ.get(\"SODAPY_APPTOKEN\")"
   ]
  },
  {
   "cell_type": "code",
   "execution_count": 50,
   "metadata": {},
   "outputs": [
    {
     "name": "stdout",
     "output_type": "stream",
     "text": [
      "Domain: data.cityofchicago.org\n",
      "Session: <requests.sessions.Session object at 0x118cc55f8>\n",
      "URI Prefix: https://\n"
     ]
    }
   ],
   "source": [
    "# Connecting to the database API\n",
    "client = Socrata(socrata_domain, socrata_token)\n",
    "print(\"Domain: {domain:}\\nSession: {session:}\\nURI Prefix: {uri_prefix:}\".format(**client.__dict__))"
   ]
  },
  {
   "cell_type": "code",
   "execution_count": 51,
   "metadata": {},
   "outputs": [
    {
     "data": {
      "text/html": [
       "<div>\n",
       "<style scoped>\n",
       "    .dataframe tbody tr th:only-of-type {\n",
       "        vertical-align: middle;\n",
       "    }\n",
       "\n",
       "    .dataframe tbody tr th {\n",
       "        vertical-align: top;\n",
       "    }\n",
       "\n",
       "    .dataframe thead th {\n",
       "        text-align: right;\n",
       "    }\n",
       "</style>\n",
       "<table border=\"1\" class=\"dataframe\">\n",
       "  <thead>\n",
       "    <tr style=\"text-align: right;\">\n",
       "      <th></th>\n",
       "      <th>arrest</th>\n",
       "      <th>beat</th>\n",
       "      <th>block</th>\n",
       "      <th>case_number</th>\n",
       "      <th>community_area</th>\n",
       "      <th>date</th>\n",
       "      <th>description</th>\n",
       "      <th>district</th>\n",
       "      <th>domestic</th>\n",
       "      <th>fbi_code</th>\n",
       "      <th>...</th>\n",
       "      <th>latitude</th>\n",
       "      <th>location</th>\n",
       "      <th>location_description</th>\n",
       "      <th>longitude</th>\n",
       "      <th>primary_type</th>\n",
       "      <th>updated_on</th>\n",
       "      <th>ward</th>\n",
       "      <th>x_coordinate</th>\n",
       "      <th>y_coordinate</th>\n",
       "      <th>year</th>\n",
       "    </tr>\n",
       "  </thead>\n",
       "  <tbody>\n",
       "    <tr>\n",
       "      <th>0</th>\n",
       "      <td>False</td>\n",
       "      <td>2424</td>\n",
       "      <td>069XX N WOLCOTT AVE</td>\n",
       "      <td>JB552555</td>\n",
       "      <td>1</td>\n",
       "      <td>2018-12-13T23:54:00.000</td>\n",
       "      <td>VIOLATE ORDER OF PROTECTION</td>\n",
       "      <td>024</td>\n",
       "      <td>True</td>\n",
       "      <td>26</td>\n",
       "      <td>...</td>\n",
       "      <td>42.008296907</td>\n",
       "      <td>{'type': 'Point', 'coordinates': [-87.67803761...</td>\n",
       "      <td>OTHER</td>\n",
       "      <td>-87.678037618</td>\n",
       "      <td>OTHER OFFENSE</td>\n",
       "      <td>2018-12-20T16:12:36.000</td>\n",
       "      <td>49</td>\n",
       "      <td>1162345</td>\n",
       "      <td>1946295</td>\n",
       "      <td>2018</td>\n",
       "    </tr>\n",
       "    <tr>\n",
       "      <th>1</th>\n",
       "      <td>True</td>\n",
       "      <td>0225</td>\n",
       "      <td>0000X E GARFIELD BLVD</td>\n",
       "      <td>JB552587</td>\n",
       "      <td>40</td>\n",
       "      <td>2018-12-13T23:52:00.000</td>\n",
       "      <td>OBSTRUCTING IDENTIFICATION</td>\n",
       "      <td>002</td>\n",
       "      <td>False</td>\n",
       "      <td>24</td>\n",
       "      <td>...</td>\n",
       "      <td>41.794670043</td>\n",
       "      <td>{'type': 'Point', 'coordinates': [-87.62368457...</td>\n",
       "      <td>STREET</td>\n",
       "      <td>-87.623684577</td>\n",
       "      <td>INTERFERENCE WITH PUBLIC OFFICER</td>\n",
       "      <td>2018-12-20T16:12:36.000</td>\n",
       "      <td>3</td>\n",
       "      <td>1177761</td>\n",
       "      <td>1868567</td>\n",
       "      <td>2018</td>\n",
       "    </tr>\n",
       "    <tr>\n",
       "      <th>2</th>\n",
       "      <td>True</td>\n",
       "      <td>0423</td>\n",
       "      <td>086XX S MARQUETTE AVE</td>\n",
       "      <td>JB552450</td>\n",
       "      <td>46</td>\n",
       "      <td>2018-12-13T23:51:00.000</td>\n",
       "      <td>VIOLATE ORDER OF PROTECTION</td>\n",
       "      <td>004</td>\n",
       "      <td>False</td>\n",
       "      <td>26</td>\n",
       "      <td>...</td>\n",
       "      <td>41.738299859</td>\n",
       "      <td>{'type': 'Point', 'coordinates': [-87.55873836...</td>\n",
       "      <td>RESIDENTIAL YARD (FRONT/BACK)</td>\n",
       "      <td>-87.558738361</td>\n",
       "      <td>OTHER OFFENSE</td>\n",
       "      <td>2018-12-20T16:12:36.000</td>\n",
       "      <td>7</td>\n",
       "      <td>1195656</td>\n",
       "      <td>1848179</td>\n",
       "      <td>2018</td>\n",
       "    </tr>\n",
       "  </tbody>\n",
       "</table>\n",
       "<p>3 rows × 22 columns</p>\n",
       "</div>"
      ],
      "text/plain": [
       "   arrest  beat                  block case_number community_area  \\\n",
       "0   False  2424    069XX N WOLCOTT AVE    JB552555              1   \n",
       "1    True  0225  0000X E GARFIELD BLVD    JB552587             40   \n",
       "2    True  0423  086XX S MARQUETTE AVE    JB552450             46   \n",
       "\n",
       "                      date                  description district  domestic  \\\n",
       "0  2018-12-13T23:54:00.000  VIOLATE ORDER OF PROTECTION      024      True   \n",
       "1  2018-12-13T23:52:00.000   OBSTRUCTING IDENTIFICATION      002     False   \n",
       "2  2018-12-13T23:51:00.000  VIOLATE ORDER OF PROTECTION      004     False   \n",
       "\n",
       "  fbi_code  ...       latitude  \\\n",
       "0       26  ...   42.008296907   \n",
       "1       24  ...   41.794670043   \n",
       "2       26  ...   41.738299859   \n",
       "\n",
       "                                            location  \\\n",
       "0  {'type': 'Point', 'coordinates': [-87.67803761...   \n",
       "1  {'type': 'Point', 'coordinates': [-87.62368457...   \n",
       "2  {'type': 'Point', 'coordinates': [-87.55873836...   \n",
       "\n",
       "            location_description      longitude  \\\n",
       "0                          OTHER  -87.678037618   \n",
       "1                         STREET  -87.623684577   \n",
       "2  RESIDENTIAL YARD (FRONT/BACK)  -87.558738361   \n",
       "\n",
       "                       primary_type               updated_on ward  \\\n",
       "0                     OTHER OFFENSE  2018-12-20T16:12:36.000   49   \n",
       "1  INTERFERENCE WITH PUBLIC OFFICER  2018-12-20T16:12:36.000    3   \n",
       "2                     OTHER OFFENSE  2018-12-20T16:12:36.000    7   \n",
       "\n",
       "  x_coordinate y_coordinate  year  \n",
       "0      1162345      1946295  2018  \n",
       "1      1177761      1868567  2018  \n",
       "2      1195656      1848179  2018  \n",
       "\n",
       "[3 rows x 22 columns]"
      ]
     },
     "execution_count": 51,
     "metadata": {},
     "output_type": "execute_result"
    }
   ],
   "source": [
    "# Fetching data pages 50,000 records at a time ordered by date\n",
    "results1 = client.get(socrata_dataset_identifier, limit=50000, offset = 0, order='date DESC')\n",
    "df1 = pd.DataFrame.from_dict(results1)\n",
    "df1.head(3)"
   ]
  },
  {
   "cell_type": "code",
   "execution_count": 52,
   "metadata": {},
   "outputs": [
    {
     "data": {
      "text/plain": [
       "(50000, 22)"
      ]
     },
     "execution_count": 52,
     "metadata": {},
     "output_type": "execute_result"
    }
   ],
   "source": [
    "# page 2\n",
    "results2 = client.get(socrata_dataset_identifier, limit = 50000, offset = 50000, order='date DESC')\n",
    "df2 = pd.DataFrame.from_dict(results2)\n",
    "df2.shape"
   ]
  },
  {
   "cell_type": "code",
   "execution_count": 53,
   "metadata": {},
   "outputs": [
    {
     "data": {
      "text/plain": [
       "(50000, 22)"
      ]
     },
     "execution_count": 53,
     "metadata": {},
     "output_type": "execute_result"
    }
   ],
   "source": [
    "# page 3\n",
    "results3 = client.get(socrata_dataset_identifier, limit = 50000, offset = 100000, order='date DESC')\n",
    "df3 = pd.DataFrame.from_dict(results3)\n",
    "df3.shape"
   ]
  },
  {
   "cell_type": "code",
   "execution_count": 54,
   "metadata": {},
   "outputs": [
    {
     "data": {
      "text/plain": [
       "(50000, 22)"
      ]
     },
     "execution_count": 54,
     "metadata": {},
     "output_type": "execute_result"
    }
   ],
   "source": [
    "# getting more data since min max date are in 2018. Getting at least one year of data.\n",
    "# page 4\n",
    "results4 = client.get(socrata_dataset_identifier, limit = 50000, offset = 150000, order='date DESC')\n",
    "df4 = pd.DataFrame.from_dict(results4)\n",
    "df4.shape"
   ]
  },
  {
   "cell_type": "code",
   "execution_count": 55,
   "metadata": {},
   "outputs": [
    {
     "data": {
      "text/plain": [
       "(50000, 22)"
      ]
     },
     "execution_count": 55,
     "metadata": {},
     "output_type": "execute_result"
    }
   ],
   "source": [
    "# getting more data since min max date are in 2018. Getting at least one year of data.\n",
    "# page 5\n",
    "results5 = client.get(socrata_dataset_identifier, limit = 50000, offset = 200000, order='date DESC')\n",
    "df5 = pd.DataFrame.from_dict(results5)\n",
    "df5.shape"
   ]
  },
  {
   "cell_type": "code",
   "execution_count": 56,
   "metadata": {},
   "outputs": [
    {
     "data": {
      "text/plain": [
       "(50000, 22)"
      ]
     },
     "execution_count": 56,
     "metadata": {},
     "output_type": "execute_result"
    }
   ],
   "source": [
    "results6 = client.get(socrata_dataset_identifier, limit = 50000, offset = 250000, order='date DESC')\n",
    "df6 = pd.DataFrame.from_dict(results6)\n",
    "df6.shape"
   ]
  },
  {
   "cell_type": "code",
   "execution_count": 57,
   "metadata": {},
   "outputs": [],
   "source": [
    "# Combining pages \n",
    "df = df1.append(df2, ignore_index=True)\n",
    "df = df.append(df3, ignore_index=True)\n",
    "df = df.append(df4, ignore_index=True)\n",
    "df = df.append(df5, ignore_index=True)\n",
    "df = df.append(df6, ignore_index=True)"
   ]
  },
  {
   "cell_type": "code",
   "execution_count": 58,
   "metadata": {},
   "outputs": [
    {
     "data": {
      "text/plain": [
       "(300000, 22)"
      ]
     },
     "execution_count": 58,
     "metadata": {},
     "output_type": "execute_result"
    }
   ],
   "source": [
    "df.shape"
   ]
  },
  {
   "cell_type": "code",
   "execution_count": 127,
   "metadata": {},
   "outputs": [
    {
     "data": {
      "text/html": [
       "<div>\n",
       "<style scoped>\n",
       "    .dataframe tbody tr th:only-of-type {\n",
       "        vertical-align: middle;\n",
       "    }\n",
       "\n",
       "    .dataframe tbody tr th {\n",
       "        vertical-align: top;\n",
       "    }\n",
       "\n",
       "    .dataframe thead th {\n",
       "        text-align: right;\n",
       "    }\n",
       "</style>\n",
       "<table border=\"1\" class=\"dataframe\">\n",
       "  <thead>\n",
       "    <tr style=\"text-align: right;\">\n",
       "      <th></th>\n",
       "      <th>arrest</th>\n",
       "      <th>beat</th>\n",
       "      <th>block</th>\n",
       "      <th>case_number</th>\n",
       "      <th>community_area</th>\n",
       "      <th>date</th>\n",
       "      <th>description</th>\n",
       "      <th>district</th>\n",
       "      <th>domestic</th>\n",
       "      <th>fbi_code</th>\n",
       "      <th>...</th>\n",
       "      <th>primary_type</th>\n",
       "      <th>updated_on</th>\n",
       "      <th>ward</th>\n",
       "      <th>x_coordinate</th>\n",
       "      <th>y_coordinate</th>\n",
       "      <th>year</th>\n",
       "      <th>hour</th>\n",
       "      <th>minute</th>\n",
       "      <th>month</th>\n",
       "      <th>weekday</th>\n",
       "    </tr>\n",
       "  </thead>\n",
       "  <tbody>\n",
       "    <tr>\n",
       "      <th>0</th>\n",
       "      <td>False</td>\n",
       "      <td>2424</td>\n",
       "      <td>069XX N WOLCOTT AVE</td>\n",
       "      <td>JB552555</td>\n",
       "      <td>1</td>\n",
       "      <td>2018-12-13 23:54:00</td>\n",
       "      <td>VIOLATE ORDER OF PROTECTION</td>\n",
       "      <td>024</td>\n",
       "      <td>True</td>\n",
       "      <td>26</td>\n",
       "      <td>...</td>\n",
       "      <td>OTHER OFFENSE</td>\n",
       "      <td>2018-12-20T16:12:36.000</td>\n",
       "      <td>49</td>\n",
       "      <td>1162345</td>\n",
       "      <td>1946295</td>\n",
       "      <td>2018</td>\n",
       "      <td>23</td>\n",
       "      <td>45</td>\n",
       "      <td>12</td>\n",
       "      <td>Thursday</td>\n",
       "    </tr>\n",
       "    <tr>\n",
       "      <th>1</th>\n",
       "      <td>True</td>\n",
       "      <td>0225</td>\n",
       "      <td>0000X E GARFIELD BLVD</td>\n",
       "      <td>JB552587</td>\n",
       "      <td>40</td>\n",
       "      <td>2018-12-13 23:52:00</td>\n",
       "      <td>OBSTRUCTING IDENTIFICATION</td>\n",
       "      <td>002</td>\n",
       "      <td>False</td>\n",
       "      <td>24</td>\n",
       "      <td>...</td>\n",
       "      <td>INTERFERENCE WITH PUBLIC OFFICER</td>\n",
       "      <td>2018-12-20T16:12:36.000</td>\n",
       "      <td>3</td>\n",
       "      <td>1177761</td>\n",
       "      <td>1868567</td>\n",
       "      <td>2018</td>\n",
       "      <td>23</td>\n",
       "      <td>45</td>\n",
       "      <td>12</td>\n",
       "      <td>Thursday</td>\n",
       "    </tr>\n",
       "    <tr>\n",
       "      <th>2</th>\n",
       "      <td>True</td>\n",
       "      <td>0423</td>\n",
       "      <td>086XX S MARQUETTE AVE</td>\n",
       "      <td>JB552450</td>\n",
       "      <td>46</td>\n",
       "      <td>2018-12-13 23:51:00</td>\n",
       "      <td>VIOLATE ORDER OF PROTECTION</td>\n",
       "      <td>004</td>\n",
       "      <td>False</td>\n",
       "      <td>26</td>\n",
       "      <td>...</td>\n",
       "      <td>OTHER OFFENSE</td>\n",
       "      <td>2018-12-20T16:12:36.000</td>\n",
       "      <td>7</td>\n",
       "      <td>1195656</td>\n",
       "      <td>1848179</td>\n",
       "      <td>2018</td>\n",
       "      <td>23</td>\n",
       "      <td>45</td>\n",
       "      <td>12</td>\n",
       "      <td>Thursday</td>\n",
       "    </tr>\n",
       "    <tr>\n",
       "      <th>3</th>\n",
       "      <td>False</td>\n",
       "      <td>2521</td>\n",
       "      <td>050XX W WOLFRAM ST</td>\n",
       "      <td>JB552435</td>\n",
       "      <td>19</td>\n",
       "      <td>2018-12-13 23:48:00</td>\n",
       "      <td>RECKLESS FIREARM DISCHARGE</td>\n",
       "      <td>025</td>\n",
       "      <td>False</td>\n",
       "      <td>15</td>\n",
       "      <td>...</td>\n",
       "      <td>WEAPONS VIOLATION</td>\n",
       "      <td>2018-12-20T16:12:36.000</td>\n",
       "      <td>31</td>\n",
       "      <td>1142191</td>\n",
       "      <td>1918478</td>\n",
       "      <td>2018</td>\n",
       "      <td>23</td>\n",
       "      <td>45</td>\n",
       "      <td>12</td>\n",
       "      <td>Thursday</td>\n",
       "    </tr>\n",
       "    <tr>\n",
       "      <th>4</th>\n",
       "      <td>True</td>\n",
       "      <td>1634</td>\n",
       "      <td>033XX N LAMON AVE</td>\n",
       "      <td>JB552485</td>\n",
       "      <td>15</td>\n",
       "      <td>2018-12-13 23:47:00</td>\n",
       "      <td>MANU/DEL:CANNABIS OVER 10 GMS</td>\n",
       "      <td>016</td>\n",
       "      <td>False</td>\n",
       "      <td>18</td>\n",
       "      <td>...</td>\n",
       "      <td>NARCOTICS</td>\n",
       "      <td>2018-12-20T16:12:36.000</td>\n",
       "      <td>31</td>\n",
       "      <td>1143109</td>\n",
       "      <td>1921908</td>\n",
       "      <td>2018</td>\n",
       "      <td>23</td>\n",
       "      <td>45</td>\n",
       "      <td>12</td>\n",
       "      <td>Thursday</td>\n",
       "    </tr>\n",
       "  </tbody>\n",
       "</table>\n",
       "<p>5 rows × 26 columns</p>\n",
       "</div>"
      ],
      "text/plain": [
       "   arrest  beat                  block case_number community_area  \\\n",
       "0   False  2424    069XX N WOLCOTT AVE    JB552555              1   \n",
       "1    True  0225  0000X E GARFIELD BLVD    JB552587             40   \n",
       "2    True  0423  086XX S MARQUETTE AVE    JB552450             46   \n",
       "3   False  2521     050XX W WOLFRAM ST    JB552435             19   \n",
       "4    True  1634      033XX N LAMON AVE    JB552485             15   \n",
       "\n",
       "                 date                    description district  domestic  \\\n",
       "0 2018-12-13 23:54:00    VIOLATE ORDER OF PROTECTION      024      True   \n",
       "1 2018-12-13 23:52:00     OBSTRUCTING IDENTIFICATION      002     False   \n",
       "2 2018-12-13 23:51:00    VIOLATE ORDER OF PROTECTION      004     False   \n",
       "3 2018-12-13 23:48:00     RECKLESS FIREARM DISCHARGE      025     False   \n",
       "4 2018-12-13 23:47:00  MANU/DEL:CANNABIS OVER 10 GMS      016     False   \n",
       "\n",
       "  fbi_code    ...                         primary_type  \\\n",
       "0       26    ...                        OTHER OFFENSE   \n",
       "1       24    ...     INTERFERENCE WITH PUBLIC OFFICER   \n",
       "2       26    ...                        OTHER OFFENSE   \n",
       "3       15    ...                    WEAPONS VIOLATION   \n",
       "4       18    ...                            NARCOTICS   \n",
       "\n",
       "                updated_on ward x_coordinate y_coordinate  year hour minute  \\\n",
       "0  2018-12-20T16:12:36.000   49      1162345      1946295  2018   23     45   \n",
       "1  2018-12-20T16:12:36.000    3      1177761      1868567  2018   23     45   \n",
       "2  2018-12-20T16:12:36.000    7      1195656      1848179  2018   23     45   \n",
       "3  2018-12-20T16:12:36.000   31      1142191      1918478  2018   23     45   \n",
       "4  2018-12-20T16:12:36.000   31      1143109      1921908  2018   23     45   \n",
       "\n",
       "  month   weekday  \n",
       "0    12  Thursday  \n",
       "1    12  Thursday  \n",
       "2    12  Thursday  \n",
       "3    12  Thursday  \n",
       "4    12  Thursday  \n",
       "\n",
       "[5 rows x 26 columns]"
      ]
     },
     "execution_count": 127,
     "metadata": {},
     "output_type": "execute_result"
    }
   ],
   "source": [
    "df.head(5)"
   ]
  },
  {
   "cell_type": "code",
   "execution_count": 59,
   "metadata": {},
   "outputs": [
    {
     "data": {
      "text/plain": [
       "arrest                     0\n",
       "beat                       0\n",
       "block                      0\n",
       "case_number                0\n",
       "community_area             2\n",
       "date                       0\n",
       "description                0\n",
       "district                   1\n",
       "domestic                   0\n",
       "fbi_code                   0\n",
       "id                         0\n",
       "iucr                       0\n",
       "latitude                2429\n",
       "location                2429\n",
       "location_description     832\n",
       "longitude               2429\n",
       "primary_type               0\n",
       "updated_on                 0\n",
       "ward                       3\n",
       "x_coordinate            2429\n",
       "y_coordinate            2429\n",
       "year                       0\n",
       "dtype: int64"
      ]
     },
     "execution_count": 59,
     "metadata": {},
     "output_type": "execute_result"
    }
   ],
   "source": [
    "# Total misiing values per column\n",
    "df.isna().sum()"
   ]
  },
  {
   "cell_type": "code",
   "execution_count": 61,
   "metadata": {},
   "outputs": [],
   "source": [
    "# removing missing values\n",
    "df = df.dropna()"
   ]
  },
  {
   "cell_type": "code",
   "execution_count": 95,
   "metadata": {},
   "outputs": [
    {
     "data": {
      "text/plain": [
       "arrest                            bool\n",
       "beat                            object\n",
       "block                           object\n",
       "case_number                     object\n",
       "community_area                  object\n",
       "date                    datetime64[ns]\n",
       "description                     object\n",
       "district                        object\n",
       "domestic                          bool\n",
       "fbi_code                        object\n",
       "id                              object\n",
       "iucr                            object\n",
       "latitude                        object\n",
       "location                        object\n",
       "location_description            object\n",
       "longitude                       object\n",
       "primary_type                    object\n",
       "updated_on                      object\n",
       "ward                            object\n",
       "x_coordinate                    object\n",
       "y_coordinate                    object\n",
       "year                            object\n",
       "hour                             int64\n",
       "minute                           int64\n",
       "month                            int64\n",
       "dtype: object"
      ]
     },
     "execution_count": 95,
     "metadata": {},
     "output_type": "execute_result"
    }
   ],
   "source": [
    "df.dtypes"
   ]
  },
  {
   "cell_type": "code",
   "execution_count": 63,
   "metadata": {},
   "outputs": [
    {
     "data": {
      "text/plain": [
       "arrest                                                            True\n",
       "beat                                                              2535\n",
       "block                                               137XX S LEYDEN AVE\n",
       "case_number                                                   XX424158\n",
       "community_area                                                       9\n",
       "date                                           2018-12-13T23:54:00.000\n",
       "description             VIOLENT OFFENDER: FAIL TO REGISTER NEW ADDRESS\n",
       "district                                                           031\n",
       "domestic                                                          True\n",
       "fbi_code                                                            26\n",
       "id                                                               24346\n",
       "iucr                                                              5132\n",
       "latitude                                                  42.022671246\n",
       "location_description                                              YMCA\n",
       "longitude                                                -87.934272688\n",
       "primary_type                                         WEAPONS VIOLATION\n",
       "updated_on                                     2018-12-20T16:12:36.000\n",
       "ward                                                                 9\n",
       "x_coordinate                                                   1205119\n",
       "y_coordinate                                                   1951535\n",
       "year                                                              2018\n",
       "dtype: object"
      ]
     },
     "execution_count": 63,
     "metadata": {},
     "output_type": "execute_result"
    }
   ],
   "source": [
    "df.max()"
   ]
  },
  {
   "cell_type": "code",
   "execution_count": 73,
   "metadata": {},
   "outputs": [
    {
     "data": {
      "text/plain": [
       "arrest                                    False\n",
       "beat                                       0111\n",
       "block                          0000X E 100TH PL\n",
       "case_number                           .JB299184\n",
       "community_area                                1\n",
       "date                        2017-10-24 14:30:00\n",
       "description                      $500 AND UNDER\n",
       "district                                    001\n",
       "domestic                                  False\n",
       "fbi_code                                    01A\n",
       "id                                     11128328\n",
       "iucr                                       0110\n",
       "latitude                           41.644600433\n",
       "location_description         ABANDONED BUILDING\n",
       "longitude                         -87.524529378\n",
       "primary_type                              ARSON\n",
       "updated_on              2017-10-31T15:55:52.000\n",
       "ward                                          1\n",
       "x_coordinate                            1092706\n",
       "y_coordinate                            1813910\n",
       "year                                       2017\n",
       "dtype: object"
      ]
     },
     "execution_count": 73,
     "metadata": {},
     "output_type": "execute_result"
    }
   ],
   "source": [
    "df.min()"
   ]
  },
  {
   "cell_type": "code",
   "execution_count": 144,
   "metadata": {},
   "outputs": [],
   "source": [
    "# Reading Illinois Uniform crime reporting codes\n",
    "iucrc = pd.read_csv('Chicago_Police_Department_-_Illinois_Uniform_Crime_Reporting__IUCR__Codes.csv')"
   ]
  },
  {
   "cell_type": "code",
   "execution_count": 24,
   "metadata": {},
   "outputs": [],
   "source": [
    "%matplotlib inline"
   ]
  },
  {
   "cell_type": "code",
   "execution_count": 94,
   "metadata": {},
   "outputs": [],
   "source": [
    "# adding new columns for date before one-hot Encoding\n",
    "df['month'] = df['date'].dt.month\n",
    "df['minute'] = df['date'].dt.minute\n",
    "df['hour'] = df['date'].dt.hour\n",
    "df['weekday'] = pd.to_datetime(df['date'].dt.date).dt.weekday_name"
   ]
  },
  {
   "cell_type": "code",
   "execution_count": 137,
   "metadata": {},
   "outputs": [],
   "source": [
    "# some more preprocessing\n",
    "df['arrest'] = df['arrest']*1"
   ]
  },
  {
   "cell_type": "code",
   "execution_count": 160,
   "metadata": {},
   "outputs": [
    {
     "data": {
      "text/html": [
       "<div>\n",
       "<style scoped>\n",
       "    .dataframe tbody tr th:only-of-type {\n",
       "        vertical-align: middle;\n",
       "    }\n",
       "\n",
       "    .dataframe tbody tr th {\n",
       "        vertical-align: top;\n",
       "    }\n",
       "\n",
       "    .dataframe thead th {\n",
       "        text-align: right;\n",
       "    }\n",
       "</style>\n",
       "<table border=\"1\" class=\"dataframe\">\n",
       "  <thead>\n",
       "    <tr style=\"text-align: right;\">\n",
       "      <th></th>\n",
       "      <th>arrest</th>\n",
       "      <th>block</th>\n",
       "      <th>case_number</th>\n",
       "      <th>date</th>\n",
       "      <th>description</th>\n",
       "      <th>domestic</th>\n",
       "      <th>fbi_code</th>\n",
       "      <th>id</th>\n",
       "      <th>iucr</th>\n",
       "      <th>latitude</th>\n",
       "      <th>...</th>\n",
       "      <th>month_3</th>\n",
       "      <th>month_4</th>\n",
       "      <th>month_5</th>\n",
       "      <th>month_6</th>\n",
       "      <th>month_7</th>\n",
       "      <th>month_8</th>\n",
       "      <th>month_9</th>\n",
       "      <th>month_10</th>\n",
       "      <th>month_11</th>\n",
       "      <th>month_12</th>\n",
       "    </tr>\n",
       "  </thead>\n",
       "  <tbody>\n",
       "    <tr>\n",
       "      <th>0</th>\n",
       "      <td>0</td>\n",
       "      <td>069XX N WOLCOTT AVE</td>\n",
       "      <td>JB552555</td>\n",
       "      <td>2018-12-13 23:54:00</td>\n",
       "      <td>VIOLATE ORDER OF PROTECTION</td>\n",
       "      <td>True</td>\n",
       "      <td>26</td>\n",
       "      <td>11534876</td>\n",
       "      <td>4387</td>\n",
       "      <td>42.008296907</td>\n",
       "      <td>...</td>\n",
       "      <td>0</td>\n",
       "      <td>0</td>\n",
       "      <td>0</td>\n",
       "      <td>0</td>\n",
       "      <td>0</td>\n",
       "      <td>0</td>\n",
       "      <td>0</td>\n",
       "      <td>0</td>\n",
       "      <td>0</td>\n",
       "      <td>1</td>\n",
       "    </tr>\n",
       "    <tr>\n",
       "      <th>1</th>\n",
       "      <td>1</td>\n",
       "      <td>0000X E GARFIELD BLVD</td>\n",
       "      <td>JB552587</td>\n",
       "      <td>2018-12-13 23:52:00</td>\n",
       "      <td>OBSTRUCTING IDENTIFICATION</td>\n",
       "      <td>False</td>\n",
       "      <td>24</td>\n",
       "      <td>11534824</td>\n",
       "      <td>3731</td>\n",
       "      <td>41.794670043</td>\n",
       "      <td>...</td>\n",
       "      <td>0</td>\n",
       "      <td>0</td>\n",
       "      <td>0</td>\n",
       "      <td>0</td>\n",
       "      <td>0</td>\n",
       "      <td>0</td>\n",
       "      <td>0</td>\n",
       "      <td>0</td>\n",
       "      <td>0</td>\n",
       "      <td>1</td>\n",
       "    </tr>\n",
       "    <tr>\n",
       "      <th>2</th>\n",
       "      <td>1</td>\n",
       "      <td>086XX S MARQUETTE AVE</td>\n",
       "      <td>JB552450</td>\n",
       "      <td>2018-12-13 23:51:00</td>\n",
       "      <td>VIOLATE ORDER OF PROTECTION</td>\n",
       "      <td>False</td>\n",
       "      <td>26</td>\n",
       "      <td>11534731</td>\n",
       "      <td>4387</td>\n",
       "      <td>41.738299859</td>\n",
       "      <td>...</td>\n",
       "      <td>0</td>\n",
       "      <td>0</td>\n",
       "      <td>0</td>\n",
       "      <td>0</td>\n",
       "      <td>0</td>\n",
       "      <td>0</td>\n",
       "      <td>0</td>\n",
       "      <td>0</td>\n",
       "      <td>0</td>\n",
       "      <td>1</td>\n",
       "    </tr>\n",
       "    <tr>\n",
       "      <th>3</th>\n",
       "      <td>0</td>\n",
       "      <td>050XX W WOLFRAM ST</td>\n",
       "      <td>JB552435</td>\n",
       "      <td>2018-12-13 23:48:00</td>\n",
       "      <td>RECKLESS FIREARM DISCHARGE</td>\n",
       "      <td>False</td>\n",
       "      <td>15</td>\n",
       "      <td>11534688</td>\n",
       "      <td>1477</td>\n",
       "      <td>41.932364167</td>\n",
       "      <td>...</td>\n",
       "      <td>0</td>\n",
       "      <td>0</td>\n",
       "      <td>0</td>\n",
       "      <td>0</td>\n",
       "      <td>0</td>\n",
       "      <td>0</td>\n",
       "      <td>0</td>\n",
       "      <td>0</td>\n",
       "      <td>0</td>\n",
       "      <td>1</td>\n",
       "    </tr>\n",
       "    <tr>\n",
       "      <th>4</th>\n",
       "      <td>1</td>\n",
       "      <td>033XX N LAMON AVE</td>\n",
       "      <td>JB552485</td>\n",
       "      <td>2018-12-13 23:47:00</td>\n",
       "      <td>MANU/DEL:CANNABIS OVER 10 GMS</td>\n",
       "      <td>False</td>\n",
       "      <td>18</td>\n",
       "      <td>11534780</td>\n",
       "      <td>1822</td>\n",
       "      <td>41.941759312</td>\n",
       "      <td>...</td>\n",
       "      <td>0</td>\n",
       "      <td>0</td>\n",
       "      <td>0</td>\n",
       "      <td>0</td>\n",
       "      <td>0</td>\n",
       "      <td>0</td>\n",
       "      <td>0</td>\n",
       "      <td>0</td>\n",
       "      <td>0</td>\n",
       "      <td>1</td>\n",
       "    </tr>\n",
       "  </tbody>\n",
       "</table>\n",
       "<p>5 rows × 489 columns</p>\n",
       "</div>"
      ],
      "text/plain": [
       "   arrest                  block case_number                date  \\\n",
       "0       0    069XX N WOLCOTT AVE    JB552555 2018-12-13 23:54:00   \n",
       "1       1  0000X E GARFIELD BLVD    JB552587 2018-12-13 23:52:00   \n",
       "2       1  086XX S MARQUETTE AVE    JB552450 2018-12-13 23:51:00   \n",
       "3       0     050XX W WOLFRAM ST    JB552435 2018-12-13 23:48:00   \n",
       "4       1      033XX N LAMON AVE    JB552485 2018-12-13 23:47:00   \n",
       "\n",
       "                     description  domestic fbi_code        id  iucr  \\\n",
       "0    VIOLATE ORDER OF PROTECTION      True       26  11534876  4387   \n",
       "1     OBSTRUCTING IDENTIFICATION     False       24  11534824  3731   \n",
       "2    VIOLATE ORDER OF PROTECTION     False       26  11534731  4387   \n",
       "3     RECKLESS FIREARM DISCHARGE     False       15  11534688  1477   \n",
       "4  MANU/DEL:CANNABIS OVER 10 GMS     False       18  11534780  1822   \n",
       "\n",
       "       latitude    ...    month_3 month_4 month_5 month_6 month_7 month_8  \\\n",
       "0  42.008296907    ...          0       0       0       0       0       0   \n",
       "1  41.794670043    ...          0       0       0       0       0       0   \n",
       "2  41.738299859    ...          0       0       0       0       0       0   \n",
       "3  41.932364167    ...          0       0       0       0       0       0   \n",
       "4  41.941759312    ...          0       0       0       0       0       0   \n",
       "\n",
       "  month_9 month_10  month_11  month_12  \n",
       "0       0        0         0         1  \n",
       "1       0        0         0         1  \n",
       "2       0        0         0         1  \n",
       "3       0        0         0         1  \n",
       "4       0        0         0         1  \n",
       "\n",
       "[5 rows x 489 columns]"
      ]
     },
     "execution_count": 160,
     "metadata": {},
     "output_type": "execute_result"
    }
   ],
   "source": [
    "dummies = pd.get_dummies(data=df, columns=['beat', 'community_area', 'district', 'ward', 'hour', 'minute',\n",
    "                                           'weekday', 'month'])\n",
    "dummies.head(5)"
   ]
  },
  {
   "cell_type": "code",
   "execution_count": 153,
   "metadata": {},
   "outputs": [],
   "source": [
    "y = df['iucr']"
   ]
  },
  {
   "cell_type": "code",
   "execution_count": 164,
   "metadata": {},
   "outputs": [],
   "source": [
    "dummies = dummies.drop(columns=['block', 'case_number', 'date', 'description', 'domestic', 'fbi_code',\n",
    "                                'id', 'iucr', 'location', 'location_description', 'primary_type',\n",
    "                                'updated_on', 'year'])"
   ]
  },
  {
   "cell_type": "code",
   "execution_count": 186,
   "metadata": {},
   "outputs": [
    {
     "data": {
      "text/plain": [
       "arrest                 int64\n",
       "latitude             float64\n",
       "longitude            float64\n",
       "x_coordinate           int64\n",
       "y_coordinate           int64\n",
       "beat_0111              uint8\n",
       "beat_0112              uint8\n",
       "beat_0113              uint8\n",
       "beat_0114              uint8\n",
       "beat_0121              uint8\n",
       "beat_0122              uint8\n",
       "beat_0123              uint8\n",
       "beat_0124              uint8\n",
       "beat_0131              uint8\n",
       "beat_0132              uint8\n",
       "beat_0133              uint8\n",
       "beat_0211              uint8\n",
       "beat_0212              uint8\n",
       "beat_0213              uint8\n",
       "beat_0214              uint8\n",
       "beat_0215              uint8\n",
       "beat_0221              uint8\n",
       "beat_0222              uint8\n",
       "beat_0223              uint8\n",
       "beat_0224              uint8\n",
       "beat_0225              uint8\n",
       "beat_0231              uint8\n",
       "beat_0232              uint8\n",
       "beat_0233              uint8\n",
       "beat_0234              uint8\n",
       "                      ...   \n",
       "hour_17                uint8\n",
       "hour_18                uint8\n",
       "hour_19                uint8\n",
       "hour_20                uint8\n",
       "hour_21                uint8\n",
       "hour_22                uint8\n",
       "hour_23                uint8\n",
       "minute_0               uint8\n",
       "minute_15              uint8\n",
       "minute_30              uint8\n",
       "minute_45              uint8\n",
       "weekday_Friday         uint8\n",
       "weekday_Monday         uint8\n",
       "weekday_Saturday       uint8\n",
       "weekday_Sunday         uint8\n",
       "weekday_Thursday       uint8\n",
       "weekday_Tuesday        uint8\n",
       "weekday_Wednesday      uint8\n",
       "month_1                uint8\n",
       "month_2                uint8\n",
       "month_3                uint8\n",
       "month_4                uint8\n",
       "month_5                uint8\n",
       "month_6                uint8\n",
       "month_7                uint8\n",
       "month_8                uint8\n",
       "month_9                uint8\n",
       "month_10               uint8\n",
       "month_11               uint8\n",
       "month_12               uint8\n",
       "Length: 476, dtype: object"
      ]
     },
     "execution_count": 186,
     "metadata": {},
     "output_type": "execute_result"
    }
   ],
   "source": [
    "dummies.dtypes"
   ]
  },
  {
   "cell_type": "code",
   "execution_count": 174,
   "metadata": {},
   "outputs": [],
   "source": [
    "dummies = dummies.apply(pd.to_numeric)"
   ]
  },
  {
   "cell_type": "code",
   "execution_count": 181,
   "metadata": {},
   "outputs": [],
   "source": [
    "feature_list = list(dummies.columns)\n",
    "features = np.array(dummies)\n",
    "x_train, x_test, y_train, y_test = train_test_split(features, y, test_size = 0.25, random_state = 42)"
   ]
  },
  {
   "cell_type": "code",
   "execution_count": 183,
   "metadata": {},
   "outputs": [
    {
     "name": "stdout",
     "output_type": "stream",
     "text": [
      "Training Features Shape: (222659, 476)\n",
      "Training Labels Shape: (222659,)\n",
      "Testing Features Shape: (74220, 476)\n",
      "Testing Labels Shape: (74220,)\n"
     ]
    }
   ],
   "source": [
    "print('Training Features Shape:', x_train.shape)\n",
    "print('Training Labels Shape:', y_train.shape)\n",
    "print('Testing Features Shape:', x_test.shape)\n",
    "print('Testing Labels Shape:', y_test.shape)"
   ]
  },
  {
   "cell_type": "code",
   "execution_count": null,
   "metadata": {},
   "outputs": [],
   "source": []
  },
  {
   "cell_type": "code",
   "execution_count": 185,
   "metadata": {},
   "outputs": [
    {
     "ename": "ValueError",
     "evalue": "could not convert string to float: '143A'",
     "output_type": "error",
     "traceback": [
      "\u001b[0;31m---------------------------------------------------------------------------\u001b[0m",
      "\u001b[0;31mValueError\u001b[0m                                Traceback (most recent call last)",
      "\u001b[0;32m<ipython-input-185-17cf98196c81>\u001b[0m in \u001b[0;36m<module>\u001b[0;34m\u001b[0m\n\u001b[1;32m      2\u001b[0m \u001b[0mrf\u001b[0m \u001b[0;34m=\u001b[0m \u001b[0mRandomForestRegressor\u001b[0m\u001b[0;34m(\u001b[0m\u001b[0mn_estimators\u001b[0m \u001b[0;34m=\u001b[0m \u001b[0;36m1000\u001b[0m\u001b[0;34m,\u001b[0m \u001b[0mrandom_state\u001b[0m \u001b[0;34m=\u001b[0m \u001b[0;36m42\u001b[0m\u001b[0;34m)\u001b[0m\u001b[0;34m\u001b[0m\u001b[0m\n\u001b[1;32m      3\u001b[0m \u001b[0;31m# Train the model on training data\u001b[0m\u001b[0;34m\u001b[0m\u001b[0;34m\u001b[0m\u001b[0m\n\u001b[0;32m----> 4\u001b[0;31m \u001b[0mrf\u001b[0m\u001b[0;34m.\u001b[0m\u001b[0mfit\u001b[0m\u001b[0;34m(\u001b[0m\u001b[0mx_train\u001b[0m\u001b[0;34m,\u001b[0m \u001b[0my_train\u001b[0m\u001b[0;34m)\u001b[0m\u001b[0;34m;\u001b[0m\u001b[0;34m\u001b[0m\u001b[0m\n\u001b[0m",
      "\u001b[0;32m~/venv/lib/python3.6/site-packages/sklearn/ensemble/forest.py\u001b[0m in \u001b[0;36mfit\u001b[0;34m(self, X, y, sample_weight)\u001b[0m\n\u001b[1;32m    279\u001b[0m \u001b[0;34m\u001b[0m\u001b[0m\n\u001b[1;32m    280\u001b[0m         \u001b[0;32mif\u001b[0m \u001b[0mgetattr\u001b[0m\u001b[0;34m(\u001b[0m\u001b[0my\u001b[0m\u001b[0;34m,\u001b[0m \u001b[0;34m\"dtype\"\u001b[0m\u001b[0;34m,\u001b[0m \u001b[0;32mNone\u001b[0m\u001b[0;34m)\u001b[0m \u001b[0;34m!=\u001b[0m \u001b[0mDOUBLE\u001b[0m \u001b[0;32mor\u001b[0m \u001b[0;32mnot\u001b[0m \u001b[0my\u001b[0m\u001b[0;34m.\u001b[0m\u001b[0mflags\u001b[0m\u001b[0;34m.\u001b[0m\u001b[0mcontiguous\u001b[0m\u001b[0;34m:\u001b[0m\u001b[0;34m\u001b[0m\u001b[0m\n\u001b[0;32m--> 281\u001b[0;31m             \u001b[0my\u001b[0m \u001b[0;34m=\u001b[0m \u001b[0mnp\u001b[0m\u001b[0;34m.\u001b[0m\u001b[0mascontiguousarray\u001b[0m\u001b[0;34m(\u001b[0m\u001b[0my\u001b[0m\u001b[0;34m,\u001b[0m \u001b[0mdtype\u001b[0m\u001b[0;34m=\u001b[0m\u001b[0mDOUBLE\u001b[0m\u001b[0;34m)\u001b[0m\u001b[0;34m\u001b[0m\u001b[0m\n\u001b[0m\u001b[1;32m    282\u001b[0m \u001b[0;34m\u001b[0m\u001b[0m\n\u001b[1;32m    283\u001b[0m         \u001b[0;32mif\u001b[0m \u001b[0mexpanded_class_weight\u001b[0m \u001b[0;32mis\u001b[0m \u001b[0;32mnot\u001b[0m \u001b[0;32mNone\u001b[0m\u001b[0;34m:\u001b[0m\u001b[0;34m\u001b[0m\u001b[0m\n",
      "\u001b[0;32m~/venv/lib/python3.6/site-packages/numpy/core/numeric.py\u001b[0m in \u001b[0;36mascontiguousarray\u001b[0;34m(a, dtype)\u001b[0m\n\u001b[1;32m    588\u001b[0m \u001b[0;34m\u001b[0m\u001b[0m\n\u001b[1;32m    589\u001b[0m     \"\"\"\n\u001b[0;32m--> 590\u001b[0;31m     \u001b[0;32mreturn\u001b[0m \u001b[0marray\u001b[0m\u001b[0;34m(\u001b[0m\u001b[0ma\u001b[0m\u001b[0;34m,\u001b[0m \u001b[0mdtype\u001b[0m\u001b[0;34m,\u001b[0m \u001b[0mcopy\u001b[0m\u001b[0;34m=\u001b[0m\u001b[0;32mFalse\u001b[0m\u001b[0;34m,\u001b[0m \u001b[0morder\u001b[0m\u001b[0;34m=\u001b[0m\u001b[0;34m'C'\u001b[0m\u001b[0;34m,\u001b[0m \u001b[0mndmin\u001b[0m\u001b[0;34m=\u001b[0m\u001b[0;36m1\u001b[0m\u001b[0;34m)\u001b[0m\u001b[0;34m\u001b[0m\u001b[0m\n\u001b[0m\u001b[1;32m    591\u001b[0m \u001b[0;34m\u001b[0m\u001b[0m\n\u001b[1;32m    592\u001b[0m \u001b[0;34m\u001b[0m\u001b[0m\n",
      "\u001b[0;31mValueError\u001b[0m: could not convert string to float: '143A'"
     ]
    }
   ],
   "source": [
    "from sklearn.ensemble import RandomForestRegressor\n",
    "rf = RandomForestRegressor(n_estimators = 1000, random_state = 42)\n",
    "# Train the model on training data\n",
    "rf.fit(x_train, y_train);"
   ]
  },
  {
   "cell_type": "code",
   "execution_count": null,
   "metadata": {},
   "outputs": [],
   "source": []
  }
 ],
 "metadata": {
  "kernelspec": {
   "display_name": "Python 3",
   "language": "python",
   "name": "python3"
  },
  "language_info": {
   "codemirror_mode": {
    "name": "ipython",
    "version": 3
   },
   "file_extension": ".py",
   "mimetype": "text/x-python",
   "name": "python",
   "nbconvert_exporter": "python",
   "pygments_lexer": "ipython3",
   "version": "3.6.0"
  }
 },
 "nbformat": 4,
 "nbformat_minor": 2
}
